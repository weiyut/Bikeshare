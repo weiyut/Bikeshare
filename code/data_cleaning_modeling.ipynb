{
 "cells": [
  {
   "cell_type": "markdown",
   "metadata": {},
   "source": [
    "# VanMoof's Capital Bikeshare Project - Modeling Data Cleaning Notebook"
   ]
  },
  {
   "cell_type": "markdown",
   "metadata": {},
   "source": [
    "#### Developed by Clare Cruz"
   ]
  },
  {
   "cell_type": "markdown",
   "metadata": {},
   "source": [
    "## Package Import"
   ]
  },
  {
   "cell_type": "code",
   "execution_count": 3,
   "metadata": {},
   "outputs": [],
   "source": [
    "import pandas as pd\n",
    "import datetime \n",
    "import numpy as np\n",
    "\n",
    "pd.set_option(\"display.max_rows\", 10)"
   ]
  },
  {
   "cell_type": "markdown",
   "metadata": {},
   "source": [
    "## Data Import"
   ]
  },
  {
   "cell_type": "markdown",
   "metadata": {},
   "source": [
    "We are bringing in the data all the months in 2020 but we've included December 2018 to determine the starting number of bikes. <br>\n",
    "Please note that it is **required for the data files to be downloaded onto your computer in order for the code to run** <br>\n",
    "These dates were chosen to avoid complications from COVID <br>\n",
    "We are also bringing in the station capacity data from https://opendata.dc.gov/ which provides data as of the pull date, which was 10/25/2021. <br>\n",
    "We have also included daily weather data from https://www.ncei.noaa.gov/. This weather is taken from the Washington Dulles airport to represent the general DC area."
   ]
  },
  {
   "cell_type": "code",
   "execution_count": 7,
   "metadata": {},
   "outputs": [],
   "source": [
    "bike_capacity = pd.read_csv('Data/Capital_Bike_Share_Locations.csv')\n",
    "last_year_bike_data = pd.read_csv('Data/201812-capitalbikeshare-tripdata.csv')\n",
    "weather_data = pd.read_csv('Data/weather_data_dc_2019.csv')"
   ]
  },
  {
   "cell_type": "code",
   "execution_count": 3,
   "metadata": {},
   "outputs": [],
   "source": [
    "all_filenames = ['Data/201901-capitalbikeshare-tripdata.csv',\n",
    "                 'Data/201902-capitalbikeshare-tripdata.csv',\n",
    "                 'Data/201903-capitalbikeshare-tripdata.csv',\n",
    "                 'Data/201904-capitalbikeshare-tripdata.csv',\n",
    "                 'Data/201905-capitalbikeshare-tripdata.csv',\n",
    "                 'Data/201906-capitalbikeshare-tripdata.csv',\n",
    "                 'Data/201908-capitalbikeshare-tripdata.csv',\n",
    "                 'Data/201909-capitalbikeshare-tripdata.csv',\n",
    "                 'Data/201910-capitalbikeshare-tripdata.csv',\n",
    "                 'Data/201911-capitalbikeshare-tripdata.csv',\n",
    "                 'Data/201912-capitalbikeshare-tripdata.csv']"
   ]
  },
  {
   "cell_type": "markdown",
   "metadata": {},
   "source": [
    "For some god foresaken reason, the date time formatting in the July 2019 data is not the same as the other months, so we will fix that real quick"
   ]
  },
  {
   "cell_type": "code",
   "execution_count": 4,
   "metadata": {},
   "outputs": [
    {
     "data": {
      "text/html": [
       "<div>\n",
       "<style scoped>\n",
       "    .dataframe tbody tr th:only-of-type {\n",
       "        vertical-align: middle;\n",
       "    }\n",
       "\n",
       "    .dataframe tbody tr th {\n",
       "        vertical-align: top;\n",
       "    }\n",
       "\n",
       "    .dataframe thead th {\n",
       "        text-align: right;\n",
       "    }\n",
       "</style>\n",
       "<table border=\"1\" class=\"dataframe\">\n",
       "  <thead>\n",
       "    <tr style=\"text-align: right;\">\n",
       "      <th></th>\n",
       "      <th>Duration</th>\n",
       "      <th>Start date</th>\n",
       "      <th>End date</th>\n",
       "      <th>Start station number</th>\n",
       "      <th>Start station</th>\n",
       "      <th>End station number</th>\n",
       "      <th>End station</th>\n",
       "      <th>Bike number</th>\n",
       "      <th>Member type</th>\n",
       "    </tr>\n",
       "  </thead>\n",
       "  <tbody>\n",
       "    <tr>\n",
       "      <th>0</th>\n",
       "      <td>528</td>\n",
       "      <td>2019-07-01 00:00:00</td>\n",
       "      <td>2019-07-01 00:08:00</td>\n",
       "      <td>31312</td>\n",
       "      <td>Wisconsin Ave &amp; O St NW</td>\n",
       "      <td>31234</td>\n",
       "      <td>20th &amp; O St NW / Dupont South</td>\n",
       "      <td>W23055</td>\n",
       "      <td>Member</td>\n",
       "    </tr>\n",
       "    <tr>\n",
       "      <th>1</th>\n",
       "      <td>548</td>\n",
       "      <td>2019-07-01 00:00:00</td>\n",
       "      <td>2019-07-01 00:09:00</td>\n",
       "      <td>31321</td>\n",
       "      <td>15th St &amp; Constitution Ave NW</td>\n",
       "      <td>31270</td>\n",
       "      <td>8th &amp; D St NW</td>\n",
       "      <td>W20124</td>\n",
       "      <td>Member</td>\n",
       "    </tr>\n",
       "    <tr>\n",
       "      <th>2</th>\n",
       "      <td>1612</td>\n",
       "      <td>2019-07-01 00:00:00</td>\n",
       "      <td>2019-07-01 00:27:00</td>\n",
       "      <td>31211</td>\n",
       "      <td>Kennedy Center</td>\n",
       "      <td>31289</td>\n",
       "      <td>Henry Bacon Dr &amp; Lincoln Memorial Circle NW</td>\n",
       "      <td>W00461</td>\n",
       "      <td>Member</td>\n",
       "    </tr>\n",
       "    <tr>\n",
       "      <th>3</th>\n",
       "      <td>534</td>\n",
       "      <td>2019-07-01 00:00:00</td>\n",
       "      <td>2019-07-01 00:09:00</td>\n",
       "      <td>31321</td>\n",
       "      <td>15th St &amp; Constitution Ave NW</td>\n",
       "      <td>31270</td>\n",
       "      <td>8th &amp; D St NW</td>\n",
       "      <td>W23106</td>\n",
       "      <td>Member</td>\n",
       "    </tr>\n",
       "    <tr>\n",
       "      <th>4</th>\n",
       "      <td>530</td>\n",
       "      <td>2019-07-01 00:00:00</td>\n",
       "      <td>2019-07-01 00:09:00</td>\n",
       "      <td>31201</td>\n",
       "      <td>15th &amp; P St NW</td>\n",
       "      <td>31109</td>\n",
       "      <td>7th &amp; T St NW</td>\n",
       "      <td>W22710</td>\n",
       "      <td>Casual</td>\n",
       "    </tr>\n",
       "  </tbody>\n",
       "</table>\n",
       "</div>"
      ],
      "text/plain": [
       "   Duration           Start date             End date  Start station number  \\\n",
       "0       528  2019-07-01 00:00:00  2019-07-01 00:08:00                 31312   \n",
       "1       548  2019-07-01 00:00:00  2019-07-01 00:09:00                 31321   \n",
       "2      1612  2019-07-01 00:00:00  2019-07-01 00:27:00                 31211   \n",
       "3       534  2019-07-01 00:00:00  2019-07-01 00:09:00                 31321   \n",
       "4       530  2019-07-01 00:00:00  2019-07-01 00:09:00                 31201   \n",
       "\n",
       "                   Start station  End station number  \\\n",
       "0        Wisconsin Ave & O St NW               31234   \n",
       "1  15th St & Constitution Ave NW               31270   \n",
       "2                 Kennedy Center               31289   \n",
       "3  15th St & Constitution Ave NW               31270   \n",
       "4                 15th & P St NW               31109   \n",
       "\n",
       "                                   End station Bike number Member type  \n",
       "0                20th & O St NW / Dupont South      W23055      Member  \n",
       "1                                8th & D St NW      W20124      Member  \n",
       "2  Henry Bacon Dr & Lincoln Memorial Circle NW      W00461      Member  \n",
       "3                                8th & D St NW      W23106      Member  \n",
       "4                                7th & T St NW      W22710      Casual  "
      ]
     },
     "execution_count": 4,
     "metadata": {},
     "output_type": "execute_result"
    }
   ],
   "source": [
    "july_df = pd.read_csv('Data/201907-capitalbikeshare-tripdata.csv')\n",
    "july_df['Start date'] = pd.to_datetime(july_df['Start date']).dt.strftime('%Y-%m-%d %H:%M:%S')\n",
    "july_df['End date'] = pd.to_datetime(july_df['End date']).dt.strftime('%Y-%m-%d %H:%M:%S')\n",
    "july_df.head()"
   ]
  },
  {
   "cell_type": "code",
   "execution_count": 5,
   "metadata": {},
   "outputs": [
    {
     "data": {
      "text/plain": [
       "(3398417, 9)"
      ]
     },
     "execution_count": 5,
     "metadata": {},
     "output_type": "execute_result"
    }
   ],
   "source": [
    "combined_data = pd.concat([pd.read_csv(f) for f in all_filenames ])\n",
    "combined_data = pd.concat([combined_data,july_df])\n",
    "combined_data.shape"
   ]
  },
  {
   "cell_type": "code",
   "execution_count": 6,
   "metadata": {},
   "outputs": [
    {
     "data": {
      "text/html": [
       "<div>\n",
       "<style scoped>\n",
       "    .dataframe tbody tr th:only-of-type {\n",
       "        vertical-align: middle;\n",
       "    }\n",
       "\n",
       "    .dataframe tbody tr th {\n",
       "        vertical-align: top;\n",
       "    }\n",
       "\n",
       "    .dataframe thead th {\n",
       "        text-align: right;\n",
       "    }\n",
       "</style>\n",
       "<table border=\"1\" class=\"dataframe\">\n",
       "  <thead>\n",
       "    <tr style=\"text-align: right;\">\n",
       "      <th></th>\n",
       "      <th>Duration</th>\n",
       "      <th>Start date</th>\n",
       "      <th>End date</th>\n",
       "      <th>Start station number</th>\n",
       "      <th>Start station</th>\n",
       "      <th>End station number</th>\n",
       "      <th>End station</th>\n",
       "      <th>Bike number</th>\n",
       "      <th>Member type</th>\n",
       "    </tr>\n",
       "  </thead>\n",
       "  <tbody>\n",
       "    <tr>\n",
       "      <th>0</th>\n",
       "      <td>230</td>\n",
       "      <td>2019-01-01 00:04:48</td>\n",
       "      <td>2019-01-01 00:08:39</td>\n",
       "      <td>31203</td>\n",
       "      <td>14th &amp; Rhode Island Ave NW</td>\n",
       "      <td>31200</td>\n",
       "      <td>Massachusetts Ave &amp; Dupont Circle NW</td>\n",
       "      <td>E00141</td>\n",
       "      <td>Member</td>\n",
       "    </tr>\n",
       "    <tr>\n",
       "      <th>1</th>\n",
       "      <td>1549</td>\n",
       "      <td>2019-01-01 00:06:37</td>\n",
       "      <td>2019-01-01 00:32:27</td>\n",
       "      <td>31321</td>\n",
       "      <td>15th St &amp; Constitution Ave NW</td>\n",
       "      <td>31114</td>\n",
       "      <td>18th St &amp; Wyoming Ave NW</td>\n",
       "      <td>W24067</td>\n",
       "      <td>Casual</td>\n",
       "    </tr>\n",
       "    <tr>\n",
       "      <th>2</th>\n",
       "      <td>177</td>\n",
       "      <td>2019-01-01 00:08:46</td>\n",
       "      <td>2019-01-01 00:11:44</td>\n",
       "      <td>31104</td>\n",
       "      <td>Adams Mill &amp; Columbia Rd NW</td>\n",
       "      <td>31323</td>\n",
       "      <td>Woodley Park Metro / Calvert St &amp; Connecticut ...</td>\n",
       "      <td>W22654</td>\n",
       "      <td>Casual</td>\n",
       "    </tr>\n",
       "    <tr>\n",
       "      <th>3</th>\n",
       "      <td>228</td>\n",
       "      <td>2019-01-01 00:08:47</td>\n",
       "      <td>2019-01-01 00:12:35</td>\n",
       "      <td>31281</td>\n",
       "      <td>8th &amp; O St NW</td>\n",
       "      <td>31280</td>\n",
       "      <td>11th &amp; S St NW</td>\n",
       "      <td>W22336</td>\n",
       "      <td>Member</td>\n",
       "    </tr>\n",
       "    <tr>\n",
       "      <th>4</th>\n",
       "      <td>1300</td>\n",
       "      <td>2019-01-01 00:12:29</td>\n",
       "      <td>2019-01-01 00:34:10</td>\n",
       "      <td>31014</td>\n",
       "      <td>Lynn &amp; 19th St North</td>\n",
       "      <td>31923</td>\n",
       "      <td>Columbia Pike &amp; S Taylor St</td>\n",
       "      <td>70004</td>\n",
       "      <td>Member</td>\n",
       "    </tr>\n",
       "  </tbody>\n",
       "</table>\n",
       "</div>"
      ],
      "text/plain": [
       "   Duration           Start date             End date  Start station number  \\\n",
       "0       230  2019-01-01 00:04:48  2019-01-01 00:08:39                 31203   \n",
       "1      1549  2019-01-01 00:06:37  2019-01-01 00:32:27                 31321   \n",
       "2       177  2019-01-01 00:08:46  2019-01-01 00:11:44                 31104   \n",
       "3       228  2019-01-01 00:08:47  2019-01-01 00:12:35                 31281   \n",
       "4      1300  2019-01-01 00:12:29  2019-01-01 00:34:10                 31014   \n",
       "\n",
       "                   Start station  End station number  \\\n",
       "0     14th & Rhode Island Ave NW               31200   \n",
       "1  15th St & Constitution Ave NW               31114   \n",
       "2    Adams Mill & Columbia Rd NW               31323   \n",
       "3                  8th & O St NW               31280   \n",
       "4           Lynn & 19th St North               31923   \n",
       "\n",
       "                                         End station Bike number Member type  \n",
       "0               Massachusetts Ave & Dupont Circle NW      E00141      Member  \n",
       "1                           18th St & Wyoming Ave NW      W24067      Casual  \n",
       "2  Woodley Park Metro / Calvert St & Connecticut ...      W22654      Casual  \n",
       "3                                     11th & S St NW      W22336      Member  \n",
       "4                        Columbia Pike & S Taylor St       70004      Member  "
      ]
     },
     "execution_count": 6,
     "metadata": {},
     "output_type": "execute_result"
    }
   ],
   "source": [
    "# Checking to see if June was brought in\n",
    "combined_data.head()"
   ]
  },
  {
   "cell_type": "code",
   "execution_count": 7,
   "metadata": {},
   "outputs": [
    {
     "data": {
      "text/html": [
       "<div>\n",
       "<style scoped>\n",
       "    .dataframe tbody tr th:only-of-type {\n",
       "        vertical-align: middle;\n",
       "    }\n",
       "\n",
       "    .dataframe tbody tr th {\n",
       "        vertical-align: top;\n",
       "    }\n",
       "\n",
       "    .dataframe thead th {\n",
       "        text-align: right;\n",
       "    }\n",
       "</style>\n",
       "<table border=\"1\" class=\"dataframe\">\n",
       "  <thead>\n",
       "    <tr style=\"text-align: right;\">\n",
       "      <th></th>\n",
       "      <th>Duration</th>\n",
       "      <th>Start date</th>\n",
       "      <th>End date</th>\n",
       "      <th>Start station number</th>\n",
       "      <th>Start station</th>\n",
       "      <th>End station number</th>\n",
       "      <th>End station</th>\n",
       "      <th>Bike number</th>\n",
       "      <th>Member type</th>\n",
       "    </tr>\n",
       "  </thead>\n",
       "  <tbody>\n",
       "    <tr>\n",
       "      <th>356640</th>\n",
       "      <td>1596</td>\n",
       "      <td>2019-07-31 23:55:00</td>\n",
       "      <td>2019-08-01 00:22:00</td>\n",
       "      <td>31249</td>\n",
       "      <td>Jefferson Memorial</td>\n",
       "      <td>31290</td>\n",
       "      <td>17th St &amp; Independence Ave SW</td>\n",
       "      <td>78598</td>\n",
       "      <td>Member</td>\n",
       "    </tr>\n",
       "    <tr>\n",
       "      <th>356641</th>\n",
       "      <td>588</td>\n",
       "      <td>2019-07-31 23:56:00</td>\n",
       "      <td>2019-08-01 00:05:00</td>\n",
       "      <td>31104</td>\n",
       "      <td>Adams Mill &amp; Columbia Rd NW</td>\n",
       "      <td>31128</td>\n",
       "      <td>23rd &amp; M St NW</td>\n",
       "      <td>W24040</td>\n",
       "      <td>Member</td>\n",
       "    </tr>\n",
       "    <tr>\n",
       "      <th>356642</th>\n",
       "      <td>737</td>\n",
       "      <td>2019-07-31 23:57:00</td>\n",
       "      <td>2019-08-01 00:10:00</td>\n",
       "      <td>31115</td>\n",
       "      <td>Columbia Rd &amp; Georgia Ave NW</td>\n",
       "      <td>31267</td>\n",
       "      <td>17th St &amp; Massachusetts Ave NW</td>\n",
       "      <td>W23142</td>\n",
       "      <td>Member</td>\n",
       "    </tr>\n",
       "    <tr>\n",
       "      <th>356643</th>\n",
       "      <td>359</td>\n",
       "      <td>2019-07-31 23:57:00</td>\n",
       "      <td>2019-08-01 00:03:00</td>\n",
       "      <td>31117</td>\n",
       "      <td>15th &amp; Euclid St  NW</td>\n",
       "      <td>31282</td>\n",
       "      <td>16th &amp; R St NW</td>\n",
       "      <td>W22184</td>\n",
       "      <td>Member</td>\n",
       "    </tr>\n",
       "    <tr>\n",
       "      <th>356644</th>\n",
       "      <td>513</td>\n",
       "      <td>2019-07-31 23:59:00</td>\n",
       "      <td>2019-08-01 00:08:00</td>\n",
       "      <td>31516</td>\n",
       "      <td>Rhode Island Ave Metro</td>\n",
       "      <td>31510</td>\n",
       "      <td>18th St &amp; Rhode Island Ave NE</td>\n",
       "      <td>W22855</td>\n",
       "      <td>Member</td>\n",
       "    </tr>\n",
       "  </tbody>\n",
       "</table>\n",
       "</div>"
      ],
      "text/plain": [
       "        Duration           Start date             End date  \\\n",
       "356640      1596  2019-07-31 23:55:00  2019-08-01 00:22:00   \n",
       "356641       588  2019-07-31 23:56:00  2019-08-01 00:05:00   \n",
       "356642       737  2019-07-31 23:57:00  2019-08-01 00:10:00   \n",
       "356643       359  2019-07-31 23:57:00  2019-08-01 00:03:00   \n",
       "356644       513  2019-07-31 23:59:00  2019-08-01 00:08:00   \n",
       "\n",
       "        Start station number                 Start station  \\\n",
       "356640                 31249            Jefferson Memorial   \n",
       "356641                 31104   Adams Mill & Columbia Rd NW   \n",
       "356642                 31115  Columbia Rd & Georgia Ave NW   \n",
       "356643                 31117          15th & Euclid St  NW   \n",
       "356644                 31516        Rhode Island Ave Metro   \n",
       "\n",
       "        End station number                     End station Bike number  \\\n",
       "356640               31290   17th St & Independence Ave SW       78598   \n",
       "356641               31128                  23rd & M St NW      W24040   \n",
       "356642               31267  17th St & Massachusetts Ave NW      W23142   \n",
       "356643               31282                  16th & R St NW      W22184   \n",
       "356644               31510   18th St & Rhode Island Ave NE      W22855   \n",
       "\n",
       "       Member type  \n",
       "356640      Member  \n",
       "356641      Member  \n",
       "356642      Member  \n",
       "356643      Member  \n",
       "356644      Member  "
      ]
     },
     "execution_count": 7,
     "metadata": {},
     "output_type": "execute_result"
    }
   ],
   "source": [
    "# Checking to make sure December was brought in\n",
    "combined_data.tail()"
   ]
  },
  {
   "cell_type": "markdown",
   "metadata": {},
   "source": [
    "#### Datatime formatting"
   ]
  },
  {
   "cell_type": "markdown",
   "metadata": {},
   "source": [
    "To make life easier, we will format the date data to Python's datetime type"
   ]
  },
  {
   "cell_type": "markdown",
   "metadata": {},
   "source": [
    "Please note that for now, we will treat the last_year data and the remaining months data separately so that we can separately calculate the starting number of bikes. "
   ]
  },
  {
   "cell_type": "code",
   "execution_count": 8,
   "metadata": {},
   "outputs": [],
   "source": [
    "# Transform the data to pandas date time variables\n",
    "last_year_bike_data['Start date'] = pd.to_datetime(last_year_bike_data['Start date'], format = '%Y-%m-%d %H:%M:%S')\n",
    "last_year_bike_data['End date'] = pd.to_datetime(last_year_bike_data['End date'], format = '%Y-%m-%d %H:%M:%S')\n",
    "\n",
    "combined_data['Start date'] = pd.to_datetime(combined_data['Start date'], format = '%Y-%m-%d %H:%M:%S')\n",
    "combined_data['End date'] = pd.to_datetime(combined_data['End date'], format = '%Y-%m-%d %H:%M:%S')"
   ]
  },
  {
   "cell_type": "markdown",
   "metadata": {},
   "source": [
    "#### Extract the day info and time info separately"
   ]
  },
  {
   "cell_type": "code",
   "execution_count": 9,
   "metadata": {},
   "outputs": [],
   "source": [
    "# Extract the start and end times and date into separate columns\n",
    "last_year_bike_data['Start_time'] = last_year_bike_data['Start date'].dt.time\n",
    "last_year_bike_data['End_time'] = last_year_bike_data['End date'].dt.time\n",
    "\n",
    "last_year_bike_data['Start_day'] = last_year_bike_data['Start date'].dt.date\n",
    "last_year_bike_data['End_day'] = last_year_bike_data['End date'].dt.date\n",
    "\n",
    "combined_data['Start_time'] = combined_data['Start date'].dt.time\n",
    "combined_data['End_time'] = combined_data['End date'].dt.time\n",
    "\n",
    "combined_data['Start_day'] = combined_data['Start date'].dt.date\n",
    "combined_data['End_day'] = combined_data['End date'].dt.date"
   ]
  },
  {
   "cell_type": "code",
   "execution_count": 10,
   "metadata": {
    "tags": []
   },
   "outputs": [],
   "source": [
    "# Define hour \n",
    "last_year_bike_data['start_hour'] = last_year_bike_data['Start date'].dt.hour\n",
    "combined_data['start_hour'] = combined_data['Start date'].dt.hour"
   ]
  },
  {
   "cell_type": "markdown",
   "metadata": {},
   "source": [
    "### Accounting for the reshuffling"
   ]
  },
  {
   "cell_type": "markdown",
   "metadata": {},
   "source": [
    "One of the issues in this project is the van reshuffling. Our solution for this is to add rows to the data to account for these transitions. The outline of the reshuffling looks like: <br>\n",
    "For one bike: <br>\n",
    "Trip 1 - Station A --> Station B <br>\n",
    "Trip 2 - Station B --> Van (**Add row**) <br>\n",
    "Trip 3 - Van --> Station C (**Add row**) <br>\n",
    "Trip 4 - Station C --> Station D"
   ]
  },
  {
   "cell_type": "code",
   "execution_count": 11,
   "metadata": {},
   "outputs": [],
   "source": [
    "# Drop the rows that have a blank bike number (there are a few)\n",
    "sorted_bike_data = combined_data[combined_data['Bike number'].notna()]\n",
    "shuffle_bike_data = sorted_bike_data.sort_values(['Bike number', 'Start date'])\n",
    "shuffle_bike_data\n",
    "# Reset the index so that our indices work in the for loop in the next chunk\n",
    "shuffle_bike_data.reset_index(inplace = True, drop = True)"
   ]
  },
  {
   "cell_type": "code",
   "execution_count": 12,
   "metadata": {
    "tags": []
   },
   "outputs": [],
   "source": [
    "# Adds two rows each time the van has reshuffled the data\n",
    "# A --> B\n",
    "# B --> Van\n",
    "# Van --> C\n",
    "# C -->\n",
    "count = 0\n",
    "# For every row in the dataset\n",
    "shuffle_bike_data_clean = []\n",
    "for i in range(len(shuffle_bike_data)-1):\n",
    "    if shuffle_bike_data.loc[i,'End station number'] != shuffle_bike_data.loc[i+1,'Start station number']:\n",
    "        if shuffle_bike_data.loc[i,'Bike number'] == shuffle_bike_data.loc[i+1,'Bike number']:\n",
    "            count += 1\n",
    "            # Add the two rows to the dataframe\n",
    "            shuffle_bike_data_clean.append([0, \n",
    "                                            shuffle_bike_data.loc[i,'End date'], \n",
    "                                            shuffle_bike_data.loc[i,'End date'], \n",
    "                                            shuffle_bike_data.loc[i,'End station number'],\n",
    "                                            shuffle_bike_data.loc[i,'End station'], \n",
    "                                            'VAN001', \n",
    "                                            'VAN', \n",
    "                                            shuffle_bike_data.loc[i,'Bike number'],\n",
    "                                            'NA',\n",
    "                                            shuffle_bike_data.loc[i,'End_time'],\n",
    "                                            shuffle_bike_data.loc[i,'End_time'],\n",
    "                                            shuffle_bike_data.loc[i,'End_day'],\n",
    "                                            shuffle_bike_data.loc[i,'End_day'], \n",
    "                                            shuffle_bike_data.loc[i,'start_hour']])\n",
    "            shuffle_bike_data_clean.append([0,\n",
    "                                            shuffle_bike_data.loc[i,'End date'],\n",
    "                                            shuffle_bike_data.loc[i,'End date'],\n",
    "                                            'VAN001',\n",
    "                                            'VAN',\n",
    "                                            shuffle_bike_data.loc[i+1,'Start station number'],\n",
    "                                            shuffle_bike_data.loc[i+1,'Start station'],\n",
    "                                            shuffle_bike_data.loc[i,'Bike number'],\n",
    "                                            'NA',\n",
    "                                            shuffle_bike_data.loc[i,'End_time'],\n",
    "                                            shuffle_bike_data.loc[i,'End_time'], \n",
    "                                            shuffle_bike_data.loc[i,'End_day'],\n",
    "                                            shuffle_bike_data.loc[i,'End_day'], \n",
    "                                            shuffle_bike_data.loc[i,'start_hour']])"
   ]
  },
  {
   "cell_type": "code",
   "execution_count": 13,
   "metadata": {},
   "outputs": [
    {
     "data": {
      "text/plain": [
       "(697388, 14)"
      ]
     },
     "execution_count": 13,
     "metadata": {},
     "output_type": "execute_result"
    }
   ],
   "source": [
    "# Make the new rows a dataframe\n",
    "van_data = pd.DataFrame(shuffle_bike_data_clean, columns=['Duration', 'Start date', 'End date', 'Start station number', 'Start station', 'End station number', 'End station', 'Bike number', 'Member type','Start_time', 'End_time', 'Start_day', 'End_day', 'start_hour'])\n",
    "van_data.shape"
   ]
  },
  {
   "cell_type": "code",
   "execution_count": 14,
   "metadata": {},
   "outputs": [],
   "source": [
    "# Drop the rows that have a blank bike number (there are a few)\n",
    "last_year_sorted_bike_data = last_year_bike_data[last_year_bike_data['Bike number'].notna()]\n",
    "last_year_shuffle_bike_data = last_year_sorted_bike_data.sort_values(['Bike number', 'Start date'])\n",
    "#shuffle_bike_data\n",
    "# Reset the index so that our indices work in the for loop in the next chunk\n",
    "last_year_shuffle_bike_data.reset_index(inplace = True, drop = True)"
   ]
  },
  {
   "cell_type": "code",
   "execution_count": 15,
   "metadata": {
    "tags": []
   },
   "outputs": [],
   "source": [
    "# Adds two rows each time the van has reshuffled the data\n",
    "# A --> B\n",
    "# B --> Van\n",
    "# Van --> C\n",
    "# C -->\n",
    "count = 0\n",
    "# For every row in the dataset\n",
    "shuffle_bike_data_clean = []\n",
    "for i in range(len(last_year_shuffle_bike_data)-1):\n",
    "    if last_year_shuffle_bike_data.loc[i,'End station number'] != last_year_shuffle_bike_data.loc[i+1,'Start station number']:\n",
    "        if last_year_shuffle_bike_data.loc[i,'Bike number'] == last_year_shuffle_bike_data.loc[i+1,'Bike number']:\n",
    "            count += 1\n",
    "            # Add the two rows to the dataframe\n",
    "            shuffle_bike_data_clean.append([0, \n",
    "                                            last_year_shuffle_bike_data.loc[i,'End date'], \n",
    "                                            last_year_shuffle_bike_data.loc[i,'End date'], \n",
    "                                            last_year_shuffle_bike_data.loc[i,'End station number'],\n",
    "                                            last_year_shuffle_bike_data.loc[i,'End station'], \n",
    "                                            'VAN001', \n",
    "                                            'VAN', \n",
    "                                            last_year_shuffle_bike_data.loc[i,'Bike number'],\n",
    "                                            'NA',\n",
    "                                            last_year_shuffle_bike_data.loc[i,'End_time'],\n",
    "                                            last_year_shuffle_bike_data.loc[i,'End_time'],\n",
    "                                            last_year_shuffle_bike_data.loc[i,'End_day'],\n",
    "                                            last_year_shuffle_bike_data.loc[i,'End_day'], \n",
    "                                            last_year_shuffle_bike_data.loc[i,'start_hour']])\n",
    "            shuffle_bike_data_clean.append([0,\n",
    "                                            last_year_shuffle_bike_data.loc[i,'End date'],\n",
    "                                            last_year_shuffle_bike_data.loc[i,'End date'],\n",
    "                                            'VAN001',\n",
    "                                            'VAN',\n",
    "                                            last_year_shuffle_bike_data.loc[i+1,'Start station number'],\n",
    "                                            last_year_shuffle_bike_data.loc[i+1,'Start station'],\n",
    "                                            last_year_shuffle_bike_data.loc[i,'Bike number'],\n",
    "                                            'NA',\n",
    "                                            last_year_shuffle_bike_data.loc[i,'End_time'],\n",
    "                                            last_year_shuffle_bike_data.loc[i,'End_time'], \n",
    "                                            last_year_shuffle_bike_data.loc[i,'End_day'],\n",
    "                                            last_year_shuffle_bike_data.loc[i,'End_day'], \n",
    "                                            last_year_shuffle_bike_data.loc[i,'start_hour']])"
   ]
  },
  {
   "cell_type": "code",
   "execution_count": 16,
   "metadata": {},
   "outputs": [
    {
     "data": {
      "text/plain": [
       "(36254, 14)"
      ]
     },
     "execution_count": 16,
     "metadata": {},
     "output_type": "execute_result"
    }
   ],
   "source": [
    "# Make the new rows a dataframe\n",
    "last_year_van_data = pd.DataFrame(shuffle_bike_data_clean, columns=['Duration', 'Start date', 'End date', 'Start station number', 'Start station', 'End station number', 'End station', 'Bike number', 'Member type','Start_time', 'End_time', 'Start_day', 'End_day', 'start_hour'])\n",
    "last_year_van_data.shape"
   ]
  },
  {
   "cell_type": "code",
   "execution_count": 17,
   "metadata": {},
   "outputs": [
    {
     "name": "stdout",
     "output_type": "stream",
     "text": [
      "(3398403, 14)\n"
     ]
    },
    {
     "data": {
      "text/plain": [
       "(4095791, 14)"
      ]
     },
     "execution_count": 17,
     "metadata": {},
     "output_type": "execute_result"
    }
   ],
   "source": [
    "# Combine the van data\n",
    "print(shuffle_bike_data.shape)\n",
    "combined_shuffle_data = pd.concat([shuffle_bike_data, van_data], axis = 0)\n",
    "combined_shuffle_data.shape"
   ]
  },
  {
   "cell_type": "markdown",
   "metadata": {},
   "source": [
    "Data has been successfully added"
   ]
  },
  {
   "cell_type": "code",
   "execution_count": 18,
   "metadata": {},
   "outputs": [
    {
     "name": "stdout",
     "output_type": "stream",
     "text": [
      "(158853, 14)\n"
     ]
    },
    {
     "data": {
      "text/plain": [
       "(195107, 14)"
      ]
     },
     "execution_count": 18,
     "metadata": {},
     "output_type": "execute_result"
    }
   ],
   "source": [
    "# Combine the van data\n",
    "print(last_year_shuffle_bike_data.shape)\n",
    "last_year_shuffle_data = pd.concat([last_year_shuffle_bike_data, last_year_van_data], axis = 0)\n",
    "last_year_shuffle_data.shape"
   ]
  },
  {
   "cell_type": "markdown",
   "metadata": {},
   "source": [
    "Data has been succesfully added"
   ]
  },
  {
   "cell_type": "markdown",
   "metadata": {},
   "source": [
    "#### Partition data into two tables: departures and arrivals"
   ]
  },
  {
   "cell_type": "markdown",
   "metadata": {},
   "source": [
    "Calculating the number of arrivals and departures separately makes life easier."
   ]
  },
  {
   "cell_type": "code",
   "execution_count": 19,
   "metadata": {},
   "outputs": [],
   "source": [
    "# Make a ride id column so that we can merge two dfs together later\n",
    "last_year_bike_data['ride_id'] = np.arange(last_year_bike_data.shape[0])\n",
    "combined_shuffle_data['ride_id'] = np.arange(combined_shuffle_data.shape[0])"
   ]
  },
  {
   "cell_type": "code",
   "execution_count": 20,
   "metadata": {},
   "outputs": [],
   "source": [
    "# Make two separate tables so we can easily calculate the number of arrivals/departures\n",
    "last_year_arrivals = last_year_bike_data\n",
    "last_year_departures = last_year_bike_data\n",
    "\n",
    "combined_arrivals = combined_shuffle_data\n",
    "combined_departures = combined_shuffle_data"
   ]
  },
  {
   "cell_type": "markdown",
   "metadata": {},
   "source": [
    "#### Arrivals Table"
   ]
  },
  {
   "cell_type": "code",
   "execution_count": 21,
   "metadata": {},
   "outputs": [
    {
     "data": {
      "text/html": [
       "<div>\n",
       "<style scoped>\n",
       "    .dataframe tbody tr th:only-of-type {\n",
       "        vertical-align: middle;\n",
       "    }\n",
       "\n",
       "    .dataframe tbody tr th {\n",
       "        vertical-align: top;\n",
       "    }\n",
       "\n",
       "    .dataframe thead th {\n",
       "        text-align: right;\n",
       "    }\n",
       "</style>\n",
       "<table border=\"1\" class=\"dataframe\">\n",
       "  <thead>\n",
       "    <tr style=\"text-align: right;\">\n",
       "      <th></th>\n",
       "      <th>Start_day</th>\n",
       "      <th>start_hour</th>\n",
       "      <th>station_id</th>\n",
       "      <th>num_arrivals</th>\n",
       "    </tr>\n",
       "  </thead>\n",
       "  <tbody>\n",
       "    <tr>\n",
       "      <th>3452</th>\n",
       "      <td>2019-01-02</td>\n",
       "      <td>11</td>\n",
       "      <td>31000</td>\n",
       "      <td>1</td>\n",
       "    </tr>\n",
       "    <tr>\n",
       "      <th>4554</th>\n",
       "      <td>2019-01-02</td>\n",
       "      <td>17</td>\n",
       "      <td>31000</td>\n",
       "      <td>1</td>\n",
       "    </tr>\n",
       "    <tr>\n",
       "      <th>7840</th>\n",
       "      <td>2019-01-03</td>\n",
       "      <td>17</td>\n",
       "      <td>31000</td>\n",
       "      <td>1</td>\n",
       "    </tr>\n",
       "    <tr>\n",
       "      <th>10843</th>\n",
       "      <td>2019-01-04</td>\n",
       "      <td>15</td>\n",
       "      <td>31000</td>\n",
       "      <td>1</td>\n",
       "    </tr>\n",
       "    <tr>\n",
       "      <th>14052</th>\n",
       "      <td>2019-01-05</td>\n",
       "      <td>17</td>\n",
       "      <td>31000</td>\n",
       "      <td>1</td>\n",
       "    </tr>\n",
       "  </tbody>\n",
       "</table>\n",
       "</div>"
      ],
      "text/plain": [
       "        Start_day  start_hour station_id  num_arrivals\n",
       "3452   2019-01-02          11      31000             1\n",
       "4554   2019-01-02          17      31000             1\n",
       "7840   2019-01-03          17      31000             1\n",
       "10843  2019-01-04          15      31000             1\n",
       "14052  2019-01-05          17      31000             1"
      ]
     },
     "execution_count": 21,
     "metadata": {},
     "output_type": "execute_result"
    }
   ],
   "source": [
    "# Aggregate the data\n",
    "last_year_arrivals_agg = last_year_arrivals.groupby(['Start_day', 'start_hour', 'End station number']).count()\n",
    "combined_arrivals_agg = combined_arrivals.groupby(['Start_day', 'start_hour', 'End station number']).count()\n",
    "\n",
    "# We only need one column to get the counts \n",
    "last_year_arrivals_df = last_year_arrivals_agg['Bike number']\n",
    "combined_arrivals_df = combined_arrivals_agg['Bike number']\n",
    "\n",
    "# Move the start day, start hour, and station number variables to columns instead of indexes\n",
    "last_year_arrivals_df = last_year_arrivals_df.reset_index(level = [0,1,2])\n",
    "combined_arrivals_df = combined_arrivals_df.reset_index(level = [0,1,2])\n",
    "\n",
    "# Normalize the variable names so we can merge tables\n",
    "last_year_arrivals_df.rename({'End station number':'station_id', 'Bike number':'num_arrivals'}, axis = 1, inplace = True)\n",
    "combined_arrivals_df.rename({'End station number':'station_id', 'Bike number':'num_arrivals'}, axis = 1, inplace = True)\n",
    "combined_arrivals_df[combined_arrivals_df['station_id'] == 31000].head()"
   ]
  },
  {
   "cell_type": "markdown",
   "metadata": {},
   "source": [
    "#### Departures Table"
   ]
  },
  {
   "cell_type": "code",
   "execution_count": 22,
   "metadata": {},
   "outputs": [],
   "source": [
    "# Aggregate the data\n",
    "last_year_depart_agg = last_year_departures.groupby(['Start_day', 'start_hour','Start station number']).count()\n",
    "combined_depart_agg = combined_departures.groupby(['Start_day', 'start_hour','Start station number']).count()\n",
    "\n",
    "# We only need one column to get the counts \n",
    "last_year_depart_df = last_year_depart_agg['Bike number']\n",
    "combined_depart_df = combined_depart_agg['Bike number']\n",
    "\n",
    "# Move the start day, start hour, and station number variables to columns instead of indexes\n",
    "last_year_depart_df = last_year_depart_df.reset_index(level = [0,1,2])\n",
    "combined_depart_df = combined_depart_df.reset_index(level = [0,1,2])\n",
    "\n",
    "# Normalize the variable names so we can merge tables\n",
    "last_year_depart_df.rename({'Start station number':'station_id', 'Bike number':'num_depart'}, axis = 1, inplace = True)\n",
    "combined_depart_df.rename({'Start station number':'station_id', 'Bike number':'num_depart'}, axis = 1, inplace = True)"
   ]
  },
  {
   "cell_type": "markdown",
   "metadata": {},
   "source": [
    "#### Merge departure and arrivals table together"
   ]
  },
  {
   "cell_type": "code",
   "execution_count": 23,
   "metadata": {},
   "outputs": [],
   "source": [
    "last_year_final_bike_data = pd.merge(last_year_arrivals_df, last_year_depart_df, how = 'outer', on = ['Start_day', 'start_hour','station_id']).fillna(0)\n",
    "combined_final_bike_data = pd.merge(combined_arrivals_df, combined_depart_df, how = 'outer', on = ['Start_day', 'start_hour','station_id']).fillna(0)\n",
    "\n",
    "last_year_final_bike_data.reset_index(inplace = True)"
   ]
  },
  {
   "cell_type": "code",
   "execution_count": 24,
   "metadata": {},
   "outputs": [
    {
     "data": {
      "text/html": [
       "<div>\n",
       "<style scoped>\n",
       "    .dataframe tbody tr th:only-of-type {\n",
       "        vertical-align: middle;\n",
       "    }\n",
       "\n",
       "    .dataframe tbody tr th {\n",
       "        vertical-align: top;\n",
       "    }\n",
       "\n",
       "    .dataframe thead th {\n",
       "        text-align: right;\n",
       "    }\n",
       "</style>\n",
       "<table border=\"1\" class=\"dataframe\">\n",
       "  <thead>\n",
       "    <tr style=\"text-align: right;\">\n",
       "      <th></th>\n",
       "      <th>Start_day</th>\n",
       "      <th>start_hour</th>\n",
       "      <th>station_id</th>\n",
       "      <th>num_arrivals</th>\n",
       "      <th>num_depart</th>\n",
       "    </tr>\n",
       "  </thead>\n",
       "  <tbody>\n",
       "    <tr>\n",
       "      <th>0</th>\n",
       "      <td>2019-01-01</td>\n",
       "      <td>0</td>\n",
       "      <td>31030</td>\n",
       "      <td>1.0</td>\n",
       "      <td>0.0</td>\n",
       "    </tr>\n",
       "    <tr>\n",
       "      <th>1</th>\n",
       "      <td>2019-01-01</td>\n",
       "      <td>0</td>\n",
       "      <td>31032</td>\n",
       "      <td>1.0</td>\n",
       "      <td>0.0</td>\n",
       "    </tr>\n",
       "    <tr>\n",
       "      <th>2</th>\n",
       "      <td>2019-01-01</td>\n",
       "      <td>0</td>\n",
       "      <td>31041</td>\n",
       "      <td>1.0</td>\n",
       "      <td>1.0</td>\n",
       "    </tr>\n",
       "    <tr>\n",
       "      <th>3</th>\n",
       "      <td>2019-01-01</td>\n",
       "      <td>0</td>\n",
       "      <td>31048</td>\n",
       "      <td>1.0</td>\n",
       "      <td>0.0</td>\n",
       "    </tr>\n",
       "    <tr>\n",
       "      <th>4</th>\n",
       "      <td>2019-01-01</td>\n",
       "      <td>0</td>\n",
       "      <td>31055</td>\n",
       "      <td>1.0</td>\n",
       "      <td>0.0</td>\n",
       "    </tr>\n",
       "  </tbody>\n",
       "</table>\n",
       "</div>"
      ],
      "text/plain": [
       "    Start_day  start_hour station_id  num_arrivals  num_depart\n",
       "0  2019-01-01           0      31030           1.0         0.0\n",
       "1  2019-01-01           0      31032           1.0         0.0\n",
       "2  2019-01-01           0      31041           1.0         1.0\n",
       "3  2019-01-01           0      31048           1.0         0.0\n",
       "4  2019-01-01           0      31055           1.0         0.0"
      ]
     },
     "execution_count": 24,
     "metadata": {},
     "output_type": "execute_result"
    }
   ],
   "source": [
    "combined_final_bike_data.head()"
   ]
  },
  {
   "cell_type": "markdown",
   "metadata": {},
   "source": [
    "### Calculating the starting number of bikes at every station"
   ]
  },
  {
   "cell_type": "markdown",
   "metadata": {},
   "source": [
    "Another quirk to this dataset is the starting number of bikes. If we start out in June without looking at some relative history, we are assuming that all of this stations have no bikes to start with. Therefore, we will look at last_year data to get a sense of how many bikes the stations start out with. We considered a whole month because some bikes don't get used very often so we need to expand the timeframe to capture all the bikes."
   ]
  },
  {
   "cell_type": "markdown",
   "metadata": {},
   "source": [
    "The starting number of bikes is calculated by finding the last location for each bike. A high level outline of the code is: <br>\n",
    "<br>\n",
    "For every bike: <br>\n",
    ">    For every station:\n",
    ">>        When was the last time the bike arrived and departed there\n",
    ">>        If the departure time is before the arrival time\n",
    ">>>            Then that bike must be at that station and flag it"
   ]
  },
  {
   "cell_type": "code",
   "execution_count": 25,
   "metadata": {},
   "outputs": [],
   "source": [
    "last_year_shuffle_data.reset_index(drop = True, inplace = True)"
   ]
  },
  {
   "cell_type": "code",
   "execution_count": 26,
   "metadata": {},
   "outputs": [],
   "source": [
    "# Get the latest time every bike was at every station\n",
    "start_depart = last_year_shuffle_data[['Bike number', 'Start date', 'Start station number']].loc[last_year_shuffle_data.groupby(['Start station number','Bike number'])['Start date'].idxmax()]\n",
    "start_arr = last_year_shuffle_data[['Bike number', 'End date', 'End station number']].loc[last_year_shuffle_data.groupby(['End station number','Bike number'])['End date'].idxmax()]\n",
    "\n",
    "start_arr.reset_index(inplace = True, drop = True)\n",
    "start_depart.reset_index(inplace = True, drop = True)\n",
    "\n",
    "start_arr.rename({'End date':'max_arrived', 'End station number':'station_id'},axis = 1, inplace = True)\n",
    "start_depart.rename({'Start date':'max_depart', 'Start station number':'station_id'},axis = 1, inplace = True)"
   ]
  },
  {
   "cell_type": "markdown",
   "metadata": {},
   "source": [
    "There are bikes that are present in last_year but not in the combined data so we need to exclude them"
   ]
  },
  {
   "cell_type": "code",
   "execution_count": 27,
   "metadata": {},
   "outputs": [
    {
     "name": "stdout",
     "output_type": "stream",
     "text": [
      "Number of bikes that are in May but not combined: 19\n"
     ]
    }
   ],
   "source": [
    "diff_bike = len(list(set(last_year_shuffle_data['Bike number'].value_counts().index)-set(combined_shuffle_data['Bike number'].value_counts().index)))\n",
    "print('Number of bikes that are in last_year but not combined: {}'.format(diff_bike))"
   ]
  },
  {
   "cell_type": "markdown",
   "metadata": {},
   "source": [
    "This is a very small number of bikes so we can disregard these bikes to repairs, stolen, or broken."
   ]
  },
  {
   "cell_type": "code",
   "execution_count": 28,
   "metadata": {},
   "outputs": [],
   "source": [
    "# Excluse any bikes that are not present in combined\n",
    "start_arr_filtered = start_arr.loc[start_arr['Bike number'].isin(combined_data['Bike number'].value_counts().index)]\n",
    "start_depart_filtered = start_depart.loc[start_depart['Bike number'].isin(combined_data['Bike number'].value_counts().index)]"
   ]
  },
  {
   "cell_type": "code",
   "execution_count": 29,
   "metadata": {},
   "outputs": [
    {
     "name": "stdout",
     "output_type": "stream",
     "text": [
      "Number of bikes in May: 3982\n",
      "Number of bikes in May after excluding bikes that are not present in combined: 3963\n"
     ]
    }
   ],
   "source": [
    "# Merge the arrivals and departure together and create a flag that indicates the last station every bike is at\n",
    "last_year_last_bike_full = pd.merge(start_arr_filtered,start_depart_filtered,  how = 'outer', left_on = ['Bike number','station_id'], right_on = ['Bike number','station_id'])\n",
    "last_year_last_bike_full['flag'] = np.where(((last_year_last_bike_full.max_arrived > last_year_last_bike_full.max_depart) | (last_year_last_bike_full.max_depart.isna())) , 1, 0)\n",
    "print('Number of bikes in last_year: {}'.format(len(last_year_shuffle_data['Bike number'].value_counts())))\n",
    "print('Number of bikes in last_year after excluding bikes that are not present in combined: {}'.format(last_year_last_bike_full[last_year_last_bike_full['flag'] == 1]['flag'].sum()))"
   ]
  },
  {
   "cell_type": "code",
   "execution_count": 30,
   "metadata": {},
   "outputs": [
    {
     "data": {
      "text/html": [
       "<div>\n",
       "<style scoped>\n",
       "    .dataframe tbody tr th:only-of-type {\n",
       "        vertical-align: middle;\n",
       "    }\n",
       "\n",
       "    .dataframe tbody tr th {\n",
       "        vertical-align: top;\n",
       "    }\n",
       "\n",
       "    .dataframe thead th {\n",
       "        text-align: right;\n",
       "    }\n",
       "</style>\n",
       "<table border=\"1\" class=\"dataframe\">\n",
       "  <thead>\n",
       "    <tr style=\"text-align: right;\">\n",
       "      <th></th>\n",
       "      <th>station_id</th>\n",
       "      <th>num_arrivals</th>\n",
       "      <th>Start_day</th>\n",
       "      <th>start_hour</th>\n",
       "      <th>num_depart</th>\n",
       "      <th>diff</th>\n",
       "    </tr>\n",
       "  </thead>\n",
       "  <tbody>\n",
       "    <tr>\n",
       "      <th>0</th>\n",
       "      <td>31000</td>\n",
       "      <td>5</td>\n",
       "      <td>2018-12-31</td>\n",
       "      <td>23</td>\n",
       "      <td>0</td>\n",
       "      <td>5</td>\n",
       "    </tr>\n",
       "    <tr>\n",
       "      <th>1</th>\n",
       "      <td>31001</td>\n",
       "      <td>4</td>\n",
       "      <td>2018-12-31</td>\n",
       "      <td>23</td>\n",
       "      <td>0</td>\n",
       "      <td>4</td>\n",
       "    </tr>\n",
       "    <tr>\n",
       "      <th>2</th>\n",
       "      <td>31002</td>\n",
       "      <td>16</td>\n",
       "      <td>2018-12-31</td>\n",
       "      <td>23</td>\n",
       "      <td>0</td>\n",
       "      <td>16</td>\n",
       "    </tr>\n",
       "    <tr>\n",
       "      <th>3</th>\n",
       "      <td>31003</td>\n",
       "      <td>5</td>\n",
       "      <td>2018-12-31</td>\n",
       "      <td>23</td>\n",
       "      <td>0</td>\n",
       "      <td>5</td>\n",
       "    </tr>\n",
       "    <tr>\n",
       "      <th>4</th>\n",
       "      <td>31004</td>\n",
       "      <td>7</td>\n",
       "      <td>2018-12-31</td>\n",
       "      <td>23</td>\n",
       "      <td>0</td>\n",
       "      <td>7</td>\n",
       "    </tr>\n",
       "  </tbody>\n",
       "</table>\n",
       "</div>"
      ],
      "text/plain": [
       "  station_id  num_arrivals   Start_day  start_hour  num_depart  diff\n",
       "0      31000             5  2018-12-31          23           0     5\n",
       "1      31001             4  2018-12-31          23           0     4\n",
       "2      31002            16  2018-12-31          23           0    16\n",
       "3      31003             5  2018-12-31          23           0     5\n",
       "4      31004             7  2018-12-31          23           0     7"
      ]
     },
     "execution_count": 30,
     "metadata": {},
     "output_type": "execute_result"
    }
   ],
   "source": [
    "# Create a dataframe that matches the combined data so that the tables can be combined\n",
    "last_year_last_bike = last_year_last_bike_full.groupby('station_id')['flag'].sum()\n",
    "last_year_last_bike = pd.DataFrame(last_year_last_bike)\n",
    "last_year_last_bike.reset_index(inplace = True)\n",
    "last_year_last_bike['Start_day'] = datetime.date(day = 31, month = 12, year = 2018) # Can be anything\n",
    "last_year_last_bike['start_hour'] = 23 # Can be anything\n",
    "last_year_last_bike['num_depart'] = 0 # So we can get the starting number\n",
    "last_year_last_bike.rename({'flag':'num_arrivals'}, axis = 1,inplace = True)\n",
    "last_year_last_bike['diff'] = last_year_last_bike['num_arrivals']\n",
    "last_year_last_bike.head()"
   ]
  },
  {
   "cell_type": "markdown",
   "metadata": {},
   "source": [
    "#### Calculate the difference in arrivals and departures"
   ]
  },
  {
   "cell_type": "code",
   "execution_count": 31,
   "metadata": {},
   "outputs": [],
   "source": [
    "combined_final_bike_data['diff'] = combined_final_bike_data['num_arrivals'] - combined_final_bike_data['num_depart']"
   ]
  },
  {
   "cell_type": "code",
   "execution_count": 32,
   "metadata": {},
   "outputs": [
    {
     "data": {
      "text/html": [
       "<div>\n",
       "<style scoped>\n",
       "    .dataframe tbody tr th:only-of-type {\n",
       "        vertical-align: middle;\n",
       "    }\n",
       "\n",
       "    .dataframe tbody tr th {\n",
       "        vertical-align: top;\n",
       "    }\n",
       "\n",
       "    .dataframe thead th {\n",
       "        text-align: right;\n",
       "    }\n",
       "</style>\n",
       "<table border=\"1\" class=\"dataframe\">\n",
       "  <thead>\n",
       "    <tr style=\"text-align: right;\">\n",
       "      <th></th>\n",
       "      <th>station_id</th>\n",
       "      <th>num_arrivals</th>\n",
       "      <th>Start_day</th>\n",
       "      <th>start_hour</th>\n",
       "      <th>num_depart</th>\n",
       "      <th>diff</th>\n",
       "    </tr>\n",
       "  </thead>\n",
       "  <tbody>\n",
       "    <tr>\n",
       "      <th>0</th>\n",
       "      <td>31000</td>\n",
       "      <td>5.0</td>\n",
       "      <td>2018-12-31</td>\n",
       "      <td>23</td>\n",
       "      <td>0.0</td>\n",
       "      <td>5.0</td>\n",
       "    </tr>\n",
       "    <tr>\n",
       "      <th>1</th>\n",
       "      <td>31001</td>\n",
       "      <td>4.0</td>\n",
       "      <td>2018-12-31</td>\n",
       "      <td>23</td>\n",
       "      <td>0.0</td>\n",
       "      <td>4.0</td>\n",
       "    </tr>\n",
       "    <tr>\n",
       "      <th>2</th>\n",
       "      <td>31002</td>\n",
       "      <td>16.0</td>\n",
       "      <td>2018-12-31</td>\n",
       "      <td>23</td>\n",
       "      <td>0.0</td>\n",
       "      <td>16.0</td>\n",
       "    </tr>\n",
       "    <tr>\n",
       "      <th>3</th>\n",
       "      <td>31003</td>\n",
       "      <td>5.0</td>\n",
       "      <td>2018-12-31</td>\n",
       "      <td>23</td>\n",
       "      <td>0.0</td>\n",
       "      <td>5.0</td>\n",
       "    </tr>\n",
       "    <tr>\n",
       "      <th>4</th>\n",
       "      <td>31004</td>\n",
       "      <td>7.0</td>\n",
       "      <td>2018-12-31</td>\n",
       "      <td>23</td>\n",
       "      <td>0.0</td>\n",
       "      <td>7.0</td>\n",
       "    </tr>\n",
       "  </tbody>\n",
       "</table>\n",
       "</div>"
      ],
      "text/plain": [
       "  station_id  num_arrivals   Start_day  start_hour  num_depart  diff\n",
       "0      31000           5.0  2018-12-31          23         0.0   5.0\n",
       "1      31001           4.0  2018-12-31          23         0.0   4.0\n",
       "2      31002          16.0  2018-12-31          23         0.0  16.0\n",
       "3      31003           5.0  2018-12-31          23         0.0   5.0\n",
       "4      31004           7.0  2018-12-31          23         0.0   7.0"
      ]
     },
     "execution_count": 32,
     "metadata": {},
     "output_type": "execute_result"
    }
   ],
   "source": [
    "full_data = pd.concat([last_year_last_bike, combined_final_bike_data], axis = 0)\n",
    "full_data.head()"
   ]
  },
  {
   "cell_type": "markdown",
   "metadata": {},
   "source": [
    "### Bikeshare capacity data"
   ]
  },
  {
   "cell_type": "markdown",
   "metadata": {},
   "source": [
    "Now we need the capacity information from the other dataset so that we can set a limit to the cumulative difference for bike availability"
   ]
  },
  {
   "cell_type": "code",
   "execution_count": 33,
   "metadata": {},
   "outputs": [
    {
     "data": {
      "text/html": [
       "<div>\n",
       "<style scoped>\n",
       "    .dataframe tbody tr th:only-of-type {\n",
       "        vertical-align: middle;\n",
       "    }\n",
       "\n",
       "    .dataframe tbody tr th {\n",
       "        vertical-align: top;\n",
       "    }\n",
       "\n",
       "    .dataframe thead th {\n",
       "        text-align: right;\n",
       "    }\n",
       "</style>\n",
       "<table border=\"1\" class=\"dataframe\">\n",
       "  <thead>\n",
       "    <tr style=\"text-align: right;\">\n",
       "      <th></th>\n",
       "      <th>NAME</th>\n",
       "      <th>NUM_DOCKS_AVAILABLE</th>\n",
       "      <th>NUM_BIKES_AVAILABLE</th>\n",
       "      <th>LONGITUDE</th>\n",
       "      <th>LATITUDE</th>\n",
       "      <th>REGION_NAME</th>\n",
       "    </tr>\n",
       "  </thead>\n",
       "  <tbody>\n",
       "    <tr>\n",
       "      <th>0</th>\n",
       "      <td>Duke St &amp; John Carlyle St</td>\n",
       "      <td>5</td>\n",
       "      <td>10</td>\n",
       "      <td>-77.060866</td>\n",
       "      <td>38.804378</td>\n",
       "      <td>Alexandria, VA</td>\n",
       "    </tr>\n",
       "    <tr>\n",
       "      <th>1</th>\n",
       "      <td>Langston Blvd &amp; N Cleveland St</td>\n",
       "      <td>8</td>\n",
       "      <td>7</td>\n",
       "      <td>-77.091690</td>\n",
       "      <td>38.894941</td>\n",
       "      <td>Arlington, VA</td>\n",
       "    </tr>\n",
       "    <tr>\n",
       "      <th>2</th>\n",
       "      <td>Arlington Blvd &amp; S George Mason Dr</td>\n",
       "      <td>12</td>\n",
       "      <td>3</td>\n",
       "      <td>-77.104503</td>\n",
       "      <td>38.869442</td>\n",
       "      <td>Arlington, VA</td>\n",
       "    </tr>\n",
       "    <tr>\n",
       "      <th>3</th>\n",
       "      <td>10th &amp; G St NW</td>\n",
       "      <td>15</td>\n",
       "      <td>7</td>\n",
       "      <td>-77.026235</td>\n",
       "      <td>38.898243</td>\n",
       "      <td>Washington, DC</td>\n",
       "    </tr>\n",
       "    <tr>\n",
       "      <th>4</th>\n",
       "      <td>Langston Blvd &amp; N Scott St</td>\n",
       "      <td>4</td>\n",
       "      <td>11</td>\n",
       "      <td>-77.080851</td>\n",
       "      <td>38.897612</td>\n",
       "      <td>Arlington, VA</td>\n",
       "    </tr>\n",
       "  </tbody>\n",
       "</table>\n",
       "</div>"
      ],
      "text/plain": [
       "                                 NAME  NUM_DOCKS_AVAILABLE  \\\n",
       "0           Duke St & John Carlyle St                    5   \n",
       "1      Langston Blvd & N Cleveland St                    8   \n",
       "2  Arlington Blvd & S George Mason Dr                   12   \n",
       "3                      10th & G St NW                   15   \n",
       "4          Langston Blvd & N Scott St                    4   \n",
       "\n",
       "   NUM_BIKES_AVAILABLE  LONGITUDE   LATITUDE     REGION_NAME  \n",
       "0                   10 -77.060866  38.804378  Alexandria, VA  \n",
       "1                    7 -77.091690  38.894941   Arlington, VA  \n",
       "2                    3 -77.104503  38.869442   Arlington, VA  \n",
       "3                    7 -77.026235  38.898243  Washington, DC  \n",
       "4                   11 -77.080851  38.897612   Arlington, VA  "
      ]
     },
     "execution_count": 33,
     "metadata": {},
     "output_type": "execute_result"
    }
   ],
   "source": [
    "filtered_capacity = bike_capacity[['NAME','NUM_DOCKS_AVAILABLE','NUM_BIKES_AVAILABLE' ,'LONGITUDE', \"LATITUDE\", \"REGION_NAME\"]]\n",
    "filtered_capacity.head()"
   ]
  },
  {
   "cell_type": "code",
   "execution_count": 34,
   "metadata": {},
   "outputs": [],
   "source": [
    "# Get a dataframe with all the bike stations and their names\n",
    "unique_stations = combined_data.drop_duplicates(subset=['Start station number'])[['Start station number', 'Start station']]"
   ]
  },
  {
   "cell_type": "code",
   "execution_count": 114,
   "metadata": {},
   "outputs": [],
   "source": [
    "# Add back the station names and the capacity to the dataset\n",
    "full_data_stations = pd.merge(full_data, unique_stations, how = 'left', left_on = 'station_id', right_on = 'Start station number')\n",
    "full_bike_data = pd.merge(full_data_stations, filtered_capacity, how = 'left', left_on = 'Start station', right_on = 'NAME')"
   ]
  },
  {
   "cell_type": "code",
   "execution_count": 115,
   "metadata": {},
   "outputs": [
    {
     "name": "stdout",
     "output_type": "stream",
     "text": [
      "There are 94 stations that do not have a capacity\n"
     ]
    },
    {
     "data": {
      "text/plain": [
       "(1552190, 14)"
      ]
     },
     "execution_count": 115,
     "metadata": {},
     "output_type": "execute_result"
    }
   ],
   "source": [
    "# Remove all the stations that are not in our dataset\n",
    "bad_stations = full_bike_data[full_bike_data['NAME'].isna()]['station_id'].value_counts().index.tolist()\n",
    "bad_stations.remove('VAN001') # don't want to delete the van data\n",
    "#print(bad_stations)\n",
    "print('There are {} stations that do not have a capacity'.format(len(bad_stations)))\n",
    "\n",
    "#Filter the dataset to the stations that have a capacity\n",
    "full_bike_data = full_bike_data[~full_bike_data['station_id'].isin(bad_stations)]\n",
    "full_bike_data.shape"
   ]
  },
  {
   "cell_type": "markdown",
   "metadata": {},
   "source": [
    "There's only 30 stations that do not have a capacity and all have either been moved, removed, or renamed"
   ]
  },
  {
   "cell_type": "code",
   "execution_count": 116,
   "metadata": {},
   "outputs": [],
   "source": [
    "# Calculate the total capacity\n",
    "full_bike_data['total_capacity'] = full_bike_data['NUM_DOCKS_AVAILABLE'] + full_bike_data['NUM_BIKES_AVAILABLE']"
   ]
  },
  {
   "cell_type": "code",
   "execution_count": 117,
   "metadata": {},
   "outputs": [],
   "source": [
    "# Drop the redundant info \n",
    "full_bike_data.drop(columns = ['NAME', 'Start station number','NUM_DOCKS_AVAILABLE','NUM_BIKES_AVAILABLE'], inplace = True)\n",
    "full_bike_data.rename({'Start station': 'station_name',  \n",
    "                       'LONGITUDE': 'longitude', \n",
    "                       'REGION_NAME': 'region_name',\n",
    "                       'LATITUDE':'latitude'} , axis = 1, inplace = True)"
   ]
  },
  {
   "cell_type": "markdown",
   "metadata": {},
   "source": [
    "There is a weird random station that is marked at station 0 which should be something else so we will fix that right here"
   ]
  },
  {
   "cell_type": "code",
   "execution_count": 118,
   "metadata": {},
   "outputs": [],
   "source": [
    "full_bike_data.loc[full_bike_data.station_id == 0, 'station_id'] = 31227"
   ]
  },
  {
   "cell_type": "code",
   "execution_count": 119,
   "metadata": {},
   "outputs": [
    {
     "data": {
      "text/html": [
       "<div>\n",
       "<style scoped>\n",
       "    .dataframe tbody tr th:only-of-type {\n",
       "        vertical-align: middle;\n",
       "    }\n",
       "\n",
       "    .dataframe tbody tr th {\n",
       "        vertical-align: top;\n",
       "    }\n",
       "\n",
       "    .dataframe thead th {\n",
       "        text-align: right;\n",
       "    }\n",
       "</style>\n",
       "<table border=\"1\" class=\"dataframe\">\n",
       "  <thead>\n",
       "    <tr style=\"text-align: right;\">\n",
       "      <th></th>\n",
       "      <th>station_id</th>\n",
       "      <th>num_arrivals</th>\n",
       "      <th>Start_day</th>\n",
       "      <th>start_hour</th>\n",
       "      <th>num_depart</th>\n",
       "      <th>diff</th>\n",
       "      <th>station_name</th>\n",
       "      <th>longitude</th>\n",
       "      <th>latitude</th>\n",
       "      <th>region_name</th>\n",
       "      <th>total_capacity</th>\n",
       "    </tr>\n",
       "  </thead>\n",
       "  <tbody>\n",
       "    <tr>\n",
       "      <th>0</th>\n",
       "      <td>31000</td>\n",
       "      <td>5.0</td>\n",
       "      <td>2018-12-31</td>\n",
       "      <td>23</td>\n",
       "      <td>0.0</td>\n",
       "      <td>5.0</td>\n",
       "      <td>Eads St &amp; 15th St S</td>\n",
       "      <td>-77.053230</td>\n",
       "      <td>38.858971</td>\n",
       "      <td>Arlington, VA</td>\n",
       "      <td>14.0</td>\n",
       "    </tr>\n",
       "    <tr>\n",
       "      <th>2</th>\n",
       "      <td>31002</td>\n",
       "      <td>16.0</td>\n",
       "      <td>2018-12-31</td>\n",
       "      <td>23</td>\n",
       "      <td>0.0</td>\n",
       "      <td>16.0</td>\n",
       "      <td>Crystal Dr &amp; 20th St S</td>\n",
       "      <td>-77.049232</td>\n",
       "      <td>38.856425</td>\n",
       "      <td>Arlington, VA</td>\n",
       "      <td>17.0</td>\n",
       "    </tr>\n",
       "    <tr>\n",
       "      <th>3</th>\n",
       "      <td>31003</td>\n",
       "      <td>5.0</td>\n",
       "      <td>2018-12-31</td>\n",
       "      <td>23</td>\n",
       "      <td>0.0</td>\n",
       "      <td>5.0</td>\n",
       "      <td>Crystal Dr &amp; 15th St S</td>\n",
       "      <td>-77.049417</td>\n",
       "      <td>38.861056</td>\n",
       "      <td>Arlington, VA</td>\n",
       "      <td>15.0</td>\n",
       "    </tr>\n",
       "    <tr>\n",
       "      <th>9</th>\n",
       "      <td>31009</td>\n",
       "      <td>9.0</td>\n",
       "      <td>2018-12-31</td>\n",
       "      <td>23</td>\n",
       "      <td>0.0</td>\n",
       "      <td>9.0</td>\n",
       "      <td>Crystal Dr &amp; 27th St S</td>\n",
       "      <td>-77.051514</td>\n",
       "      <td>38.848466</td>\n",
       "      <td>Arlington, VA</td>\n",
       "      <td>10.0</td>\n",
       "    </tr>\n",
       "    <tr>\n",
       "      <th>11</th>\n",
       "      <td>31011</td>\n",
       "      <td>13.0</td>\n",
       "      <td>2018-12-31</td>\n",
       "      <td>23</td>\n",
       "      <td>0.0</td>\n",
       "      <td>13.0</td>\n",
       "      <td>Crystal Dr &amp; 23rd St S</td>\n",
       "      <td>-77.049723</td>\n",
       "      <td>38.852929</td>\n",
       "      <td>Arlington, VA</td>\n",
       "      <td>17.0</td>\n",
       "    </tr>\n",
       "  </tbody>\n",
       "</table>\n",
       "</div>"
      ],
      "text/plain": [
       "   station_id  num_arrivals   Start_day  start_hour  num_depart  diff  \\\n",
       "0       31000           5.0  2018-12-31          23         0.0   5.0   \n",
       "2       31002          16.0  2018-12-31          23         0.0  16.0   \n",
       "3       31003           5.0  2018-12-31          23         0.0   5.0   \n",
       "9       31009           9.0  2018-12-31          23         0.0   9.0   \n",
       "11      31011          13.0  2018-12-31          23         0.0  13.0   \n",
       "\n",
       "              station_name  longitude   latitude    region_name  \\\n",
       "0      Eads St & 15th St S -77.053230  38.858971  Arlington, VA   \n",
       "2   Crystal Dr & 20th St S -77.049232  38.856425  Arlington, VA   \n",
       "3   Crystal Dr & 15th St S -77.049417  38.861056  Arlington, VA   \n",
       "9   Crystal Dr & 27th St S -77.051514  38.848466  Arlington, VA   \n",
       "11  Crystal Dr & 23rd St S -77.049723  38.852929  Arlington, VA   \n",
       "\n",
       "    total_capacity  \n",
       "0             14.0  \n",
       "2             17.0  \n",
       "3             15.0  \n",
       "9             10.0  \n",
       "11            17.0  "
      ]
     },
     "execution_count": 119,
     "metadata": {},
     "output_type": "execute_result"
    }
   ],
   "source": [
    "full_bike_data.head()"
   ]
  },
  {
   "cell_type": "markdown",
   "metadata": {},
   "source": [
    "### Determine the starting number of bikes for our timeframe"
   ]
  },
  {
   "cell_type": "markdown",
   "metadata": {},
   "source": [
    "#### Calculate cumulative sum of diff for every station"
   ]
  },
  {
   "cell_type": "code",
   "execution_count": 120,
   "metadata": {},
   "outputs": [],
   "source": [
    "# Sort the values so that we can view the stations individually one at a time in chronological order\n",
    "full_bike_data.sort_values(['station_id','Start_day', 'start_hour'], inplace = True)\n",
    "full_bike_data.reset_index(drop = True, inplace = True)"
   ]
  },
  {
   "cell_type": "code",
   "execution_count": 121,
   "metadata": {},
   "outputs": [],
   "source": [
    "full_bike_data['cumu_sum1'] = full_bike_data[['station_id','Start_day','start_hour','diff']].groupby(['station_id','Start_day','start_hour']).sum().groupby(level=0).cumsum().reset_index()['diff']"
   ]
  },
  {
   "cell_type": "markdown",
   "metadata": {},
   "source": [
    "There is a maximum and minimum limit on the cumulative sum to account for those outlying changes in bike availability that would make the cumulative sum negative or much higher than the station can hold. To measure the number of times this happens, the number of times the cumulative sum goes over a station's capacity or goes negative is measured."
   ]
  },
  {
   "cell_type": "code",
   "execution_count": 122,
   "metadata": {},
   "outputs": [],
   "source": [
    "#Some of the numbers are still a little weird - so we will use the custom cumulative sum function\n",
    "station_num = full_bike_data.loc[0,'station_id']\n",
    "cumu_sum = 0\n",
    "zero_counter = 0\n",
    "cap_counter = 0\n",
    "for i in range(0,len(full_bike_data)):\n",
    "    # Check to see if the station number has changed\n",
    "    if full_bike_data.loc[i,'station_id'] != station_num:\n",
    "        # If it has, reset the sum to the new station\n",
    "        station_num = full_bike_data.loc[i,'station_id']\n",
    "        cumu_sum = 0\n",
    "    # If the cumu sum has reached max capacity\n",
    "    if cumu_sum + full_bike_data.loc[i, 'diff'] >= full_bike_data.loc[i,'total_capacity']:\n",
    "        full_bike_data.at[i,'cumu_sum2'] = full_bike_data.loc[i,'total_capacity']\n",
    "        cumu_sum = full_bike_data.loc[i,'total_capacity']\n",
    "        cap_counter +=1\n",
    "    # If the cumu sum has reached minimum capacity\n",
    "    elif cumu_sum + full_bike_data.loc[i, 'diff'] < 0:\n",
    "        full_bike_data.at[i,'cumu_sum2'] = 0\n",
    "        cumu_sum = 0\n",
    "        zero_counter += 1\n",
    "    else:\n",
    "        # Add to the cumulative sum and add the data point to the table\n",
    "        cumu_sum += full_bike_data.loc[i, 'diff'] \n",
    "        full_bike_data.at[i,'cumu_sum2'] = cumu_sum"
   ]
  },
  {
   "cell_type": "markdown",
   "metadata": {},
   "source": [
    "### Bike availability error investigation"
   ]
  },
  {
   "cell_type": "markdown",
   "metadata": {},
   "source": [
    "#### How representative are the two cumulative sum calculations?"
   ]
  },
  {
   "cell_type": "code",
   "execution_count": 123,
   "metadata": {},
   "outputs": [
    {
     "name": "stdout",
     "output_type": "stream",
     "text": [
      "Number of times restricted cumu sum is negative: 19066\n",
      "Number of times restricted cumu sum is greater than capacity: 39763\n",
      "Percent of bikes affected by restriction: 3.790064360677494\n"
     ]
    }
   ],
   "source": [
    "print(\"Number of times restricted cumu sum is negative: {}\".format(zero_counter))\n",
    "print(\"Number of times restricted cumu sum is greater than capacity: {}\".format(cap_counter))\n",
    "print(\"Percent of bikes affected by restriction: {}\".format((zero_counter + cap_counter)/full_bike_data.shape[0]*100))"
   ]
  },
  {
   "cell_type": "code",
   "execution_count": 124,
   "metadata": {},
   "outputs": [
    {
     "name": "stdout",
     "output_type": "stream",
     "text": [
      "Number of times raw cumu sum is greater than capacity: 316039\n",
      "Number of times raw cumu sum is negative: 0\n"
     ]
    }
   ],
   "source": [
    "print(\"Number of times raw cumu sum is greater than capacity: {}\".format(full_bike_data[abs(full_bike_data['cumu_sum1']) > full_bike_data['total_capacity']].shape[0]))\n",
    "print(\"Number of times raw cumu sum is negative: {}\".format(full_bike_data[abs(full_bike_data['cumu_sum1']) < 0].shape[0]))"
   ]
  },
  {
   "cell_type": "markdown",
   "metadata": {},
   "source": [
    "- It looks like we should focus on the restricted cumulative sum since it affects less data points\n",
    "- The raw cumulative sum indicates that total capacity may not be correct all the time"
   ]
  },
  {
   "cell_type": "markdown",
   "metadata": {},
   "source": [
    "#### Bad starting points"
   ]
  },
  {
   "cell_type": "markdown",
   "metadata": {},
   "source": [
    "The main cause behind the errors in the cumulative sum is our inaccurate measure of the starting point\n",
    "but this only affects **20 stations** in our dataset and the numbers are fairly close so we will assume this is\n",
    "a natural error that can't be accounted for"
   ]
  },
  {
   "cell_type": "code",
   "execution_count": 125,
   "metadata": {},
   "outputs": [
    {
     "name": "stdout",
     "output_type": "stream",
     "text": [
      "Number of stations with a starting number that is above its capacity: 20\n"
     ]
    }
   ],
   "source": [
    "num_bad_starting_points = full_bike_data[(full_bike_data['Start_day'] == datetime.date(month = 12, year = 2018, day = 31))&(full_bike_data['num_arrivals']>full_bike_data['total_capacity'])].shape[0]\n",
    "print(\"Number of stations with a starting number that is above its capacity: {}\".format(num_bad_starting_points))"
   ]
  },
  {
   "cell_type": "markdown",
   "metadata": {},
   "source": [
    "#### Popular Events"
   ]
  },
  {
   "cell_type": "markdown",
   "metadata": {},
   "source": [
    "There also appeared to be random **large spikes and dips in arrivals and departures for some stations**, further investigation saw that these events were related to popular events like baseball games <br>\n",
    "For example, the station near the MLB Nationals Stadium had peak arrivals and departures around the time of the game. <br>\n",
    "This article shows how this is a common practice for the company, and we can assume that other large spikes are also due to large events <b>\n",
    "https://www.wnyc.org/story/285378-nine-percent-of-all-d-c-bike-share-bikes-are-at-washington-nationals-stadium-for-the-playoff-game/."
   ]
  },
  {
   "cell_type": "code",
   "execution_count": 126,
   "metadata": {},
   "outputs": [
    {
     "data": {
      "text/html": [
       "<div>\n",
       "<style scoped>\n",
       "    .dataframe tbody tr th:only-of-type {\n",
       "        vertical-align: middle;\n",
       "    }\n",
       "\n",
       "    .dataframe tbody tr th {\n",
       "        vertical-align: top;\n",
       "    }\n",
       "\n",
       "    .dataframe thead th {\n",
       "        text-align: right;\n",
       "    }\n",
       "</style>\n",
       "<table border=\"1\" class=\"dataframe\">\n",
       "  <thead>\n",
       "    <tr style=\"text-align: right;\">\n",
       "      <th></th>\n",
       "      <th>station_id</th>\n",
       "      <th>num_arrivals</th>\n",
       "      <th>Start_day</th>\n",
       "      <th>start_hour</th>\n",
       "      <th>num_depart</th>\n",
       "      <th>diff</th>\n",
       "      <th>station_name</th>\n",
       "      <th>longitude</th>\n",
       "      <th>latitude</th>\n",
       "      <th>region_name</th>\n",
       "      <th>total_capacity</th>\n",
       "      <th>cumu_sum1</th>\n",
       "      <th>cumu_sum2</th>\n",
       "    </tr>\n",
       "  </thead>\n",
       "  <tbody>\n",
       "    <tr>\n",
       "      <th>1332864</th>\n",
       "      <td>31648</td>\n",
       "      <td>48.0</td>\n",
       "      <td>2019-04-06</td>\n",
       "      <td>14</td>\n",
       "      <td>5.0</td>\n",
       "      <td>43.0</td>\n",
       "      <td>Potomac Ave &amp; Half St SW</td>\n",
       "      <td>-77.010815</td>\n",
       "      <td>38.869683</td>\n",
       "      <td>Washington, DC</td>\n",
       "      <td>23.0</td>\n",
       "      <td>10.0</td>\n",
       "      <td>23.0</td>\n",
       "    </tr>\n",
       "    <tr>\n",
       "      <th>1332867</th>\n",
       "      <td>31648</td>\n",
       "      <td>6.0</td>\n",
       "      <td>2019-04-06</td>\n",
       "      <td>17</td>\n",
       "      <td>56.0</td>\n",
       "      <td>-50.0</td>\n",
       "      <td>Potomac Ave &amp; Half St SW</td>\n",
       "      <td>-77.010815</td>\n",
       "      <td>38.869683</td>\n",
       "      <td>Washington, DC</td>\n",
       "      <td>23.0</td>\n",
       "      <td>7.0</td>\n",
       "      <td>0.0</td>\n",
       "    </tr>\n",
       "    <tr>\n",
       "      <th>1332899</th>\n",
       "      <td>31648</td>\n",
       "      <td>40.0</td>\n",
       "      <td>2019-04-09</td>\n",
       "      <td>19</td>\n",
       "      <td>0.0</td>\n",
       "      <td>40.0</td>\n",
       "      <td>Potomac Ave &amp; Half St SW</td>\n",
       "      <td>-77.010815</td>\n",
       "      <td>38.869683</td>\n",
       "      <td>Washington, DC</td>\n",
       "      <td>23.0</td>\n",
       "      <td>15.0</td>\n",
       "      <td>23.0</td>\n",
       "    </tr>\n",
       "    <tr>\n",
       "      <th>1332902</th>\n",
       "      <td>31648</td>\n",
       "      <td>0.0</td>\n",
       "      <td>2019-04-09</td>\n",
       "      <td>22</td>\n",
       "      <td>46.0</td>\n",
       "      <td>-46.0</td>\n",
       "      <td>Potomac Ave &amp; Half St SW</td>\n",
       "      <td>-77.010815</td>\n",
       "      <td>38.869683</td>\n",
       "      <td>Washington, DC</td>\n",
       "      <td>23.0</td>\n",
       "      <td>14.0</td>\n",
       "      <td>0.0</td>\n",
       "    </tr>\n",
       "    <tr>\n",
       "      <th>1333028</th>\n",
       "      <td>31648</td>\n",
       "      <td>35.0</td>\n",
       "      <td>2019-04-21</td>\n",
       "      <td>15</td>\n",
       "      <td>2.0</td>\n",
       "      <td>33.0</td>\n",
       "      <td>Potomac Ave &amp; Half St SW</td>\n",
       "      <td>-77.010815</td>\n",
       "      <td>38.869683</td>\n",
       "      <td>Washington, DC</td>\n",
       "      <td>23.0</td>\n",
       "      <td>6.0</td>\n",
       "      <td>23.0</td>\n",
       "    </tr>\n",
       "    <tr>\n",
       "      <th>...</th>\n",
       "      <td>...</td>\n",
       "      <td>...</td>\n",
       "      <td>...</td>\n",
       "      <td>...</td>\n",
       "      <td>...</td>\n",
       "      <td>...</td>\n",
       "      <td>...</td>\n",
       "      <td>...</td>\n",
       "      <td>...</td>\n",
       "      <td>...</td>\n",
       "      <td>...</td>\n",
       "      <td>...</td>\n",
       "      <td>...</td>\n",
       "    </tr>\n",
       "    <tr>\n",
       "      <th>1334464</th>\n",
       "      <td>31648</td>\n",
       "      <td>0.0</td>\n",
       "      <td>2019-08-21</td>\n",
       "      <td>22</td>\n",
       "      <td>46.0</td>\n",
       "      <td>-46.0</td>\n",
       "      <td>Potomac Ave &amp; Half St SW</td>\n",
       "      <td>-77.010815</td>\n",
       "      <td>38.869683</td>\n",
       "      <td>Washington, DC</td>\n",
       "      <td>23.0</td>\n",
       "      <td>4.0</td>\n",
       "      <td>0.0</td>\n",
       "    </tr>\n",
       "    <tr>\n",
       "      <th>1334832</th>\n",
       "      <td>31648</td>\n",
       "      <td>45.0</td>\n",
       "      <td>2019-09-22</td>\n",
       "      <td>19</td>\n",
       "      <td>2.0</td>\n",
       "      <td>43.0</td>\n",
       "      <td>Potomac Ave &amp; Half St SW</td>\n",
       "      <td>-77.010815</td>\n",
       "      <td>38.869683</td>\n",
       "      <td>Washington, DC</td>\n",
       "      <td>23.0</td>\n",
       "      <td>4.0</td>\n",
       "      <td>23.0</td>\n",
       "    </tr>\n",
       "    <tr>\n",
       "      <th>1334835</th>\n",
       "      <td>31648</td>\n",
       "      <td>0.0</td>\n",
       "      <td>2019-09-22</td>\n",
       "      <td>22</td>\n",
       "      <td>49.0</td>\n",
       "      <td>-49.0</td>\n",
       "      <td>Potomac Ave &amp; Half St SW</td>\n",
       "      <td>-77.010815</td>\n",
       "      <td>38.869683</td>\n",
       "      <td>Washington, DC</td>\n",
       "      <td>23.0</td>\n",
       "      <td>8.0</td>\n",
       "      <td>0.0</td>\n",
       "    </tr>\n",
       "    <tr>\n",
       "      <th>1335015</th>\n",
       "      <td>31648</td>\n",
       "      <td>60.0</td>\n",
       "      <td>2019-10-06</td>\n",
       "      <td>15</td>\n",
       "      <td>11.0</td>\n",
       "      <td>49.0</td>\n",
       "      <td>Potomac Ave &amp; Half St SW</td>\n",
       "      <td>-77.010815</td>\n",
       "      <td>38.869683</td>\n",
       "      <td>Washington, DC</td>\n",
       "      <td>23.0</td>\n",
       "      <td>6.0</td>\n",
       "      <td>23.0</td>\n",
       "    </tr>\n",
       "    <tr>\n",
       "      <th>1335018</th>\n",
       "      <td>31648</td>\n",
       "      <td>1.0</td>\n",
       "      <td>2019-10-06</td>\n",
       "      <td>18</td>\n",
       "      <td>57.0</td>\n",
       "      <td>-56.0</td>\n",
       "      <td>Potomac Ave &amp; Half St SW</td>\n",
       "      <td>-77.010815</td>\n",
       "      <td>38.869683</td>\n",
       "      <td>Washington, DC</td>\n",
       "      <td>23.0</td>\n",
       "      <td>5.0</td>\n",
       "      <td>0.0</td>\n",
       "    </tr>\n",
       "  </tbody>\n",
       "</table>\n",
       "<p>23 rows × 13 columns</p>\n",
       "</div>"
      ],
      "text/plain": [
       "        station_id  num_arrivals   Start_day  start_hour  num_depart  diff  \\\n",
       "1332864      31648          48.0  2019-04-06          14         5.0  43.0   \n",
       "1332867      31648           6.0  2019-04-06          17        56.0 -50.0   \n",
       "1332899      31648          40.0  2019-04-09          19         0.0  40.0   \n",
       "1332902      31648           0.0  2019-04-09          22        46.0 -46.0   \n",
       "1333028      31648          35.0  2019-04-21          15         2.0  33.0   \n",
       "...            ...           ...         ...         ...         ...   ...   \n",
       "1334464      31648           0.0  2019-08-21          22        46.0 -46.0   \n",
       "1334832      31648          45.0  2019-09-22          19         2.0  43.0   \n",
       "1334835      31648           0.0  2019-09-22          22        49.0 -49.0   \n",
       "1335015      31648          60.0  2019-10-06          15        11.0  49.0   \n",
       "1335018      31648           1.0  2019-10-06          18        57.0 -56.0   \n",
       "\n",
       "                     station_name  longitude   latitude     region_name  \\\n",
       "1332864  Potomac Ave & Half St SW -77.010815  38.869683  Washington, DC   \n",
       "1332867  Potomac Ave & Half St SW -77.010815  38.869683  Washington, DC   \n",
       "1332899  Potomac Ave & Half St SW -77.010815  38.869683  Washington, DC   \n",
       "1332902  Potomac Ave & Half St SW -77.010815  38.869683  Washington, DC   \n",
       "1333028  Potomac Ave & Half St SW -77.010815  38.869683  Washington, DC   \n",
       "...                           ...        ...        ...             ...   \n",
       "1334464  Potomac Ave & Half St SW -77.010815  38.869683  Washington, DC   \n",
       "1334832  Potomac Ave & Half St SW -77.010815  38.869683  Washington, DC   \n",
       "1334835  Potomac Ave & Half St SW -77.010815  38.869683  Washington, DC   \n",
       "1335015  Potomac Ave & Half St SW -77.010815  38.869683  Washington, DC   \n",
       "1335018  Potomac Ave & Half St SW -77.010815  38.869683  Washington, DC   \n",
       "\n",
       "         total_capacity  cumu_sum1  cumu_sum2  \n",
       "1332864            23.0       10.0       23.0  \n",
       "1332867            23.0        7.0        0.0  \n",
       "1332899            23.0       15.0       23.0  \n",
       "1332902            23.0       14.0        0.0  \n",
       "1333028            23.0        6.0       23.0  \n",
       "...                 ...        ...        ...  \n",
       "1334464            23.0        4.0        0.0  \n",
       "1334832            23.0        4.0       23.0  \n",
       "1334835            23.0        8.0        0.0  \n",
       "1335015            23.0        6.0       23.0  \n",
       "1335018            23.0        5.0        0.0  \n",
       "\n",
       "[23 rows x 13 columns]"
      ]
     },
     "execution_count": 126,
     "metadata": {},
     "output_type": "execute_result"
    }
   ],
   "source": [
    "full_bike_data[(full_bike_data['station_id'] == 31648) & (abs(full_bike_data['diff']) > full_bike_data['total_capacity'])]"
   ]
  },
  {
   "cell_type": "markdown",
   "metadata": {},
   "source": [
    "### Adding additional information"
   ]
  },
  {
   "cell_type": "code",
   "execution_count": 127,
   "metadata": {},
   "outputs": [],
   "source": [
    "full_bike_data.drop(columns = ['cumu_sum1'], axis = 1, inplace = True)\n",
    "full_bike_data.rename({'cumu_sum2':'cumu_sum'}, axis = 1, inplace = True)"
   ]
  },
  {
   "cell_type": "markdown",
   "metadata": {},
   "source": [
    "#### Weekend vs Weekday"
   ]
  },
  {
   "cell_type": "code",
   "execution_count": 128,
   "metadata": {},
   "outputs": [],
   "source": [
    "full_bike_data['percent_full'] = full_bike_data['cumu_sum']/full_bike_data['total_capacity']\n",
    "full_bike_data['weekday_num'] = pd.to_datetime(full_bike_data['Start_day'], errors = 'coerce').dt.weekday\n",
    "#full_bike_data.head()\n",
    "full_bike_data['weekend_flag'] = np.where((full_bike_data['weekday_num'] == 6) | (full_bike_data['weekday_num'] == 5), 1, 0)"
   ]
  },
  {
   "cell_type": "markdown",
   "metadata": {},
   "source": [
    "#### Weather"
   ]
  },
  {
   "cell_type": "markdown",
   "metadata": {},
   "source": [
    "The weather data contains daily precipitation and temperature data. It gets merged with our full data set by the date."
   ]
  },
  {
   "cell_type": "code",
   "execution_count": 129,
   "metadata": {},
   "outputs": [
    {
     "data": {
      "text/html": [
       "<div>\n",
       "<style scoped>\n",
       "    .dataframe tbody tr th:only-of-type {\n",
       "        vertical-align: middle;\n",
       "    }\n",
       "\n",
       "    .dataframe tbody tr th {\n",
       "        vertical-align: top;\n",
       "    }\n",
       "\n",
       "    .dataframe thead th {\n",
       "        text-align: right;\n",
       "    }\n",
       "</style>\n",
       "<table border=\"1\" class=\"dataframe\">\n",
       "  <thead>\n",
       "    <tr style=\"text-align: right;\">\n",
       "      <th></th>\n",
       "      <th>DATE</th>\n",
       "      <th>PRCP</th>\n",
       "      <th>SNOW</th>\n",
       "      <th>TAVG</th>\n",
       "      <th>TMAX</th>\n",
       "      <th>TMIN</th>\n",
       "    </tr>\n",
       "  </thead>\n",
       "  <tbody>\n",
       "    <tr>\n",
       "      <th>0</th>\n",
       "      <td>2018-12-31</td>\n",
       "      <td>0.53</td>\n",
       "      <td>0.0</td>\n",
       "      <td>37</td>\n",
       "      <td>47</td>\n",
       "      <td>30</td>\n",
       "    </tr>\n",
       "    <tr>\n",
       "      <th>1</th>\n",
       "      <td>2019-01-01</td>\n",
       "      <td>0.00</td>\n",
       "      <td>0.0</td>\n",
       "      <td>53</td>\n",
       "      <td>62</td>\n",
       "      <td>40</td>\n",
       "    </tr>\n",
       "    <tr>\n",
       "      <th>2</th>\n",
       "      <td>2019-01-02</td>\n",
       "      <td>0.00</td>\n",
       "      <td>0.0</td>\n",
       "      <td>43</td>\n",
       "      <td>45</td>\n",
       "      <td>37</td>\n",
       "    </tr>\n",
       "    <tr>\n",
       "      <th>3</th>\n",
       "      <td>2019-01-03</td>\n",
       "      <td>0.00</td>\n",
       "      <td>0.0</td>\n",
       "      <td>44</td>\n",
       "      <td>49</td>\n",
       "      <td>30</td>\n",
       "    </tr>\n",
       "    <tr>\n",
       "      <th>4</th>\n",
       "      <td>2019-01-04</td>\n",
       "      <td>0.03</td>\n",
       "      <td>0.0</td>\n",
       "      <td>36</td>\n",
       "      <td>46</td>\n",
       "      <td>28</td>\n",
       "    </tr>\n",
       "  </tbody>\n",
       "</table>\n",
       "</div>"
      ],
      "text/plain": [
       "        DATE  PRCP  SNOW  TAVG  TMAX  TMIN\n",
       "0 2018-12-31  0.53   0.0    37    47    30\n",
       "1 2019-01-01  0.00   0.0    53    62    40\n",
       "2 2019-01-02  0.00   0.0    43    45    37\n",
       "3 2019-01-03  0.00   0.0    44    49    30\n",
       "4 2019-01-04  0.03   0.0    36    46    28"
      ]
     },
     "execution_count": 129,
     "metadata": {},
     "output_type": "execute_result"
    }
   ],
   "source": [
    "weather_data[\"DATE\"] = pd.to_datetime(weather_data['DATE'])\n",
    "weather_data = weather_data.drop(columns = ['STATION',\"NAME\"])\n",
    "weather_data.head()"
   ]
  },
  {
   "cell_type": "code",
   "execution_count": 130,
   "metadata": {},
   "outputs": [
    {
     "data": {
      "text/html": [
       "<div>\n",
       "<style scoped>\n",
       "    .dataframe tbody tr th:only-of-type {\n",
       "        vertical-align: middle;\n",
       "    }\n",
       "\n",
       "    .dataframe tbody tr th {\n",
       "        vertical-align: top;\n",
       "    }\n",
       "\n",
       "    .dataframe thead th {\n",
       "        text-align: right;\n",
       "    }\n",
       "</style>\n",
       "<table border=\"1\" class=\"dataframe\">\n",
       "  <thead>\n",
       "    <tr style=\"text-align: right;\">\n",
       "      <th></th>\n",
       "      <th>station_id</th>\n",
       "      <th>num_arrivals</th>\n",
       "      <th>Start_day</th>\n",
       "      <th>start_hour</th>\n",
       "      <th>num_depart</th>\n",
       "      <th>diff</th>\n",
       "      <th>station_name</th>\n",
       "      <th>longitude</th>\n",
       "      <th>latitude</th>\n",
       "      <th>region_name</th>\n",
       "      <th>total_capacity</th>\n",
       "      <th>cumu_sum</th>\n",
       "      <th>percent_full</th>\n",
       "      <th>weekday_num</th>\n",
       "      <th>weekend_flag</th>\n",
       "      <th>PRCP</th>\n",
       "      <th>SNOW</th>\n",
       "      <th>TAVG</th>\n",
       "      <th>TMAX</th>\n",
       "      <th>TMIN</th>\n",
       "    </tr>\n",
       "  </thead>\n",
       "  <tbody>\n",
       "    <tr>\n",
       "      <th>0</th>\n",
       "      <td>31000</td>\n",
       "      <td>5.0</td>\n",
       "      <td>2018-12-31</td>\n",
       "      <td>23</td>\n",
       "      <td>0.0</td>\n",
       "      <td>5.0</td>\n",
       "      <td>Eads St &amp; 15th St S</td>\n",
       "      <td>-77.05323</td>\n",
       "      <td>38.858971</td>\n",
       "      <td>Arlington, VA</td>\n",
       "      <td>14.0</td>\n",
       "      <td>5.0</td>\n",
       "      <td>0.357143</td>\n",
       "      <td>0</td>\n",
       "      <td>0</td>\n",
       "      <td>0.53</td>\n",
       "      <td>0.0</td>\n",
       "      <td>37</td>\n",
       "      <td>47</td>\n",
       "      <td>30</td>\n",
       "    </tr>\n",
       "    <tr>\n",
       "      <th>1</th>\n",
       "      <td>31000</td>\n",
       "      <td>0.0</td>\n",
       "      <td>2019-01-02</td>\n",
       "      <td>9</td>\n",
       "      <td>2.0</td>\n",
       "      <td>-2.0</td>\n",
       "      <td>Eads St &amp; 15th St S</td>\n",
       "      <td>-77.05323</td>\n",
       "      <td>38.858971</td>\n",
       "      <td>Arlington, VA</td>\n",
       "      <td>14.0</td>\n",
       "      <td>3.0</td>\n",
       "      <td>0.214286</td>\n",
       "      <td>2</td>\n",
       "      <td>0</td>\n",
       "      <td>0.00</td>\n",
       "      <td>0.0</td>\n",
       "      <td>43</td>\n",
       "      <td>45</td>\n",
       "      <td>37</td>\n",
       "    </tr>\n",
       "    <tr>\n",
       "      <th>2</th>\n",
       "      <td>31000</td>\n",
       "      <td>1.0</td>\n",
       "      <td>2019-01-02</td>\n",
       "      <td>11</td>\n",
       "      <td>0.0</td>\n",
       "      <td>1.0</td>\n",
       "      <td>Eads St &amp; 15th St S</td>\n",
       "      <td>-77.05323</td>\n",
       "      <td>38.858971</td>\n",
       "      <td>Arlington, VA</td>\n",
       "      <td>14.0</td>\n",
       "      <td>4.0</td>\n",
       "      <td>0.285714</td>\n",
       "      <td>2</td>\n",
       "      <td>0</td>\n",
       "      <td>0.00</td>\n",
       "      <td>0.0</td>\n",
       "      <td>43</td>\n",
       "      <td>45</td>\n",
       "      <td>37</td>\n",
       "    </tr>\n",
       "    <tr>\n",
       "      <th>3</th>\n",
       "      <td>31000</td>\n",
       "      <td>0.0</td>\n",
       "      <td>2019-01-02</td>\n",
       "      <td>12</td>\n",
       "      <td>1.0</td>\n",
       "      <td>-1.0</td>\n",
       "      <td>Eads St &amp; 15th St S</td>\n",
       "      <td>-77.05323</td>\n",
       "      <td>38.858971</td>\n",
       "      <td>Arlington, VA</td>\n",
       "      <td>14.0</td>\n",
       "      <td>3.0</td>\n",
       "      <td>0.214286</td>\n",
       "      <td>2</td>\n",
       "      <td>0</td>\n",
       "      <td>0.00</td>\n",
       "      <td>0.0</td>\n",
       "      <td>43</td>\n",
       "      <td>45</td>\n",
       "      <td>37</td>\n",
       "    </tr>\n",
       "    <tr>\n",
       "      <th>4</th>\n",
       "      <td>31000</td>\n",
       "      <td>1.0</td>\n",
       "      <td>2019-01-02</td>\n",
       "      <td>17</td>\n",
       "      <td>0.0</td>\n",
       "      <td>1.0</td>\n",
       "      <td>Eads St &amp; 15th St S</td>\n",
       "      <td>-77.05323</td>\n",
       "      <td>38.858971</td>\n",
       "      <td>Arlington, VA</td>\n",
       "      <td>14.0</td>\n",
       "      <td>4.0</td>\n",
       "      <td>0.285714</td>\n",
       "      <td>2</td>\n",
       "      <td>0</td>\n",
       "      <td>0.00</td>\n",
       "      <td>0.0</td>\n",
       "      <td>43</td>\n",
       "      <td>45</td>\n",
       "      <td>37</td>\n",
       "    </tr>\n",
       "  </tbody>\n",
       "</table>\n",
       "</div>"
      ],
      "text/plain": [
       "  station_id  num_arrivals  Start_day  start_hour  num_depart  diff  \\\n",
       "0      31000           5.0 2018-12-31          23         0.0   5.0   \n",
       "1      31000           0.0 2019-01-02           9         2.0  -2.0   \n",
       "2      31000           1.0 2019-01-02          11         0.0   1.0   \n",
       "3      31000           0.0 2019-01-02          12         1.0  -1.0   \n",
       "4      31000           1.0 2019-01-02          17         0.0   1.0   \n",
       "\n",
       "          station_name  longitude   latitude    region_name  total_capacity  \\\n",
       "0  Eads St & 15th St S  -77.05323  38.858971  Arlington, VA            14.0   \n",
       "1  Eads St & 15th St S  -77.05323  38.858971  Arlington, VA            14.0   \n",
       "2  Eads St & 15th St S  -77.05323  38.858971  Arlington, VA            14.0   \n",
       "3  Eads St & 15th St S  -77.05323  38.858971  Arlington, VA            14.0   \n",
       "4  Eads St & 15th St S  -77.05323  38.858971  Arlington, VA            14.0   \n",
       "\n",
       "   cumu_sum  percent_full  weekday_num  weekend_flag  PRCP  SNOW  TAVG  TMAX  \\\n",
       "0       5.0      0.357143            0             0  0.53   0.0    37    47   \n",
       "1       3.0      0.214286            2             0  0.00   0.0    43    45   \n",
       "2       4.0      0.285714            2             0  0.00   0.0    43    45   \n",
       "3       3.0      0.214286            2             0  0.00   0.0    43    45   \n",
       "4       4.0      0.285714            2             0  0.00   0.0    43    45   \n",
       "\n",
       "   TMIN  \n",
       "0    30  \n",
       "1    37  \n",
       "2    37  \n",
       "3    37  \n",
       "4    37  "
      ]
     },
     "execution_count": 130,
     "metadata": {},
     "output_type": "execute_result"
    }
   ],
   "source": [
    "# Also need to change start day to a datetime so that we can merge on date\n",
    "full_bike_data['Start_day'] = pd.to_datetime(full_bike_data['Start_day'])\n",
    "\n",
    "# Complete merge\n",
    "full_bike_data = pd.merge(full_bike_data, weather_data, how = 'left', left_on = 'Start_day', right_on = \"DATE\")\n",
    "full_bike_data.drop(columns = ['DATE'], inplace = True)\n",
    "full_bike_data.head()"
   ]
  },
  {
   "cell_type": "markdown",
   "metadata": {},
   "source": [
    "#### Holidays"
   ]
  },
  {
   "cell_type": "code",
   "execution_count": 131,
   "metadata": {},
   "outputs": [],
   "source": [
    "from pandas.tseries.holiday import USFederalHolidayCalendar as calendar\n",
    "\n",
    "cal = calendar()\n",
    "holidays = cal.holidays(start= full_bike_data['Start_day'].min(), end=full_bike_data['Start_day'].max())\n",
    "holidays\n",
    "full_bike_data['holiday'] = pd.to_datetime(full_bike_data['Start_day']).isin(holidays)"
   ]
  },
  {
   "cell_type": "markdown",
   "metadata": {},
   "source": [
    "#### Final data before export"
   ]
  },
  {
   "cell_type": "code",
   "execution_count": 1,
   "metadata": {},
   "outputs": [
    {
     "ename": "NameError",
     "evalue": "name 'full_bike_data' is not defined",
     "output_type": "error",
     "traceback": [
      "\u001b[1;31m---------------------------------------------------------------------------\u001b[0m",
      "\u001b[1;31mNameError\u001b[0m                                 Traceback (most recent call last)",
      "\u001b[1;32m<ipython-input-1-773a9c8dcffe>\u001b[0m in \u001b[0;36m<module>\u001b[1;34m\u001b[0m\n\u001b[1;32m----> 1\u001b[1;33m \u001b[0mfull_bike_data\u001b[0m\u001b[1;33m.\u001b[0m\u001b[0mhead\u001b[0m\u001b[1;33m(\u001b[0m\u001b[1;33m)\u001b[0m\u001b[1;33m\u001b[0m\u001b[1;33m\u001b[0m\u001b[0m\n\u001b[0m",
      "\u001b[1;31mNameError\u001b[0m: name 'full_bike_data' is not defined"
     ]
    }
   ],
   "source": [
    "full_bike_data.head()"
   ]
  },
  {
   "cell_type": "markdown",
   "metadata": {},
   "source": [
    "### Data Export"
   ]
  },
  {
   "cell_type": "markdown",
   "metadata": {},
   "source": [
    "Change file path to desired location"
   ]
  },
  {
   "cell_type": "code",
   "execution_count": 133,
   "metadata": {},
   "outputs": [],
   "source": [
    "#full_bike_data.to_csv('C:/Users/cbrig/OneDrive/CMU/Perspectives in Data Science/Group Project/cleaned_bike_data_2019.csv')"
   ]
  },
  {
   "cell_type": "code",
   "execution_count": null,
   "metadata": {},
   "outputs": [],
   "source": []
  }
 ],
 "metadata": {
  "kernelspec": {
   "display_name": "Python 3",
   "language": "python",
   "name": "python3"
  },
  "language_info": {
   "codemirror_mode": {
    "name": "ipython",
    "version": 3
   },
   "file_extension": ".py",
   "mimetype": "text/x-python",
   "name": "python",
   "nbconvert_exporter": "python",
   "pygments_lexer": "ipython3",
   "version": "3.8.8"
  }
 },
 "nbformat": 4,
 "nbformat_minor": 4
}
